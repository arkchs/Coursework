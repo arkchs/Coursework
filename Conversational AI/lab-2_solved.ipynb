{
 "cells": [
  {
   "cell_type": "markdown",
   "metadata": {},
   "source": [
    "# __Data Collection Using APIs__"
   ]
  },
  {
   "cell_type": "code",
   "execution_count": 11,
   "metadata": {},
   "outputs": [],
   "source": [
    "import requests\n",
    "import pandas as pd"
   ]
  },
  {
   "cell_type": "code",
   "execution_count": 12,
   "metadata": {},
   "outputs": [],
   "source": []
  },
  {
   "cell_type": "markdown",
   "metadata": {},
   "source": [
    "### Figuring out the id for the genres"
   ]
  },
  {
   "cell_type": "code",
   "execution_count": 13,
   "metadata": {},
   "outputs": [],
   "source": [
    "base_url = 'https://api.themoviedb.org/3'"
   ]
  },
  {
   "cell_type": "code",
   "execution_count": 14,
   "metadata": {},
   "outputs": [],
   "source": [
    "endpoint = base_url + \"/genre/movie/list?api_key=\"\n",
    "response = requests.get(endpoint, headers=headers)"
   ]
  },
  {
   "cell_type": "code",
   "execution_count": 15,
   "metadata": {},
   "outputs": [
    {
     "name": "stdout",
     "output_type": "stream",
     "text": [
      "b'{\"genres\":[{\"id\":28,\"name\":\"Action\"},{\"id\":12,\"name\":\"Adventure\"},{\"id\":16,\"name\":\"Animation\"},{\"id\":35,\"name\":\"Comedy\"},{\"id\":80,\"name\":\"Crime\"},{\"id\":99,\"name\":\"Documentary\"},{\"id\":18,\"name\":\"Drama\"},{\"id\":10751,\"name\":\"Family\"},{\"id\":14,\"name\":\"Fantasy\"},{\"id\":36,\"name\":\"History\"},{\"id\":27,\"name\":\"Horror\"},{\"id\":10402,\"name\":\"Music\"},{\"id\":9648,\"name\":\"Mystery\"},{\"id\":10749,\"name\":\"Romance\"},{\"id\":878,\"name\":\"Science Fiction\"},{\"id\":10770,\"name\":\"TV Movie\"},{\"id\":53,\"name\":\"Thriller\"},{\"id\":10752,\"name\":\"War\"},{\"id\":37,\"name\":\"Western\"}]}'\n"
     ]
    }
   ],
   "source": [
    "if(response.status_code==200):\n",
    "    print(response.json())\n",
    "else:\n",
    "    print('Something Weng Wrong! '+str(response.status_code))"
   ]
  },
  {
   "cell_type": "code",
   "execution_count": 42,
   "metadata": {},
   "outputs": [],
   "source": [
    "def get_movies(pageno):\n",
    "    endpoint_1 = base_url + \"/discover/movie\"\n",
    "    options_1 = f\"?include_adult=false&include_video=false&language=en-US&page={pageno}&sort_by=popularity.desc&with_genres=35\"\n",
    "    endpoint_1 = endpoint_1 + options_1\n",
    "    discover_response = requests.get(endpoint_1,headers=headers)\n",
    "    if(discover_response.status_code!=200):\n",
    "        print(\"Something Went Wrong! \"+str(discover_response.status_code))\n",
    "        return discover_response\n",
    "    else:\n",
    "        # print(discover_response.json())\n",
    "        return discover_response"
   ]
  },
  {
   "cell_type": "markdown",
   "metadata": {},
   "source": [
    "### The output format is uncomprehensible! Let's fix that."
   ]
  },
  {
   "cell_type": "code",
   "execution_count": 39,
   "metadata": {},
   "outputs": [
    {
     "name": "stdout",
     "output_type": "stream",
     "text": [
      "{'page': 1, 'results': [{'adult': False, 'backdrop_path': '/yDHYTfA3R0jFYba16jBB1ef8oIt.jpg', 'genre_ids': [28, 35, 878], 'id': 533535, 'original_language': 'en', 'original_title': 'Deadpool & Wolverine', 'overview': 'A listless Wade Wilson toils away in civilian life with his days as the morally flexible mercenary, Deadpool, behind him. But when his homeworld faces an existential threat, Wade must reluctantly suit-up again with an even more reluctant Wolverine.', 'popularity': 3927.655, 'poster_path': '/8cdWjvZQUExUUTzyp4t6EDMubfO.jpg', 'release_date': '2024-07-24', 'title': 'Deadpool & Wolverine', 'video': False, 'vote_average': 7.77, 'vote_count': 2513}, {'adult': False, 'backdrop_path': '/stKGOm8UyhuLPR9sZLjs5AkmncA.jpg', 'genre_ids': [16, 10751, 12, 35], 'id': 1022789, 'original_language': 'en', 'original_title': 'Inside Out 2', 'overview': \"Teenager Riley's mind headquarters is undergoing a sudden demolition to make room for something entirely unexpected: new Emotions! Joy, Sadness, Anger, Fear and Disgust, who’ve long been running a successful operation by all accounts, aren’t sure how to feel when Anxiety shows up. And it looks like she’s not alone.\", 'popularity': 1982.755, 'poster_path': '/vpnVM9B6NMmQpWeZvzLvDESb2QY.jpg', 'release_date': '2024-06-11', 'title': 'Inside Out 2', 'video': False, 'vote_average': 7.692, 'vote_count': 3167}, {'adult': False, 'backdrop_path': '/lgkPzcOSnTvjeMnuFzozRO5HHw1.jpg', 'genre_ids': [16, 10751, 35, 28], 'id': 519182, 'original_language': 'en', 'original_title': 'Despicable Me 4', 'overview': 'Gru and Lucy and their girls—Margo, Edith and Agnes—welcome a new member to the Gru family, Gru Jr., who is intent on tormenting his dad. Gru also faces a new nemesis in Maxime Le Mal and his femme fatale girlfriend Valentina, forcing the family to go on the run.', 'popularity': 1673.039, 'poster_path': '/wWba3TaojhK7NdycRhoQpsG0FaH.jpg', 'release_date': '2024-06-20', 'title': 'Despicable Me 4', 'video': False, 'vote_average': 7.262, 'vote_count': 1330}, {'adult': False, 'backdrop_path': '/3q01ACG0MWm0DekhvkPFCXyPZSu.jpg', 'genre_ids': [28, 80, 53, 35], 'id': 573435, 'original_language': 'en', 'original_title': 'Bad Boys: Ride or Die', 'overview': 'After their late former Captain is framed, Lowrey and Burnett try to clear his name, only to end up on the run themselves.', 'popularity': 1373.944, 'poster_path': '/oGythE98MYleE6mZlGs5oBGkux1.jpg', 'release_date': '2024-06-05', 'title': 'Bad Boys: Ride or Die', 'video': False, 'vote_average': 7.573, 'vote_count': 1758}, {'adult': False, 'backdrop_path': '/4ft6TR9wA6bra0RLL6G7JFDQ5t1.jpg', 'genre_ids': [28, 35], 'id': 704239, 'original_language': 'en', 'original_title': 'The Union', 'overview': 'A New Jersey construction worker goes from regular guy to aspiring spy when his long-lost high school sweetheart recruits him for an espionage mission.', 'popularity': 1255.311, 'poster_path': '/d9CTnTHip1RbVi2OQbA2LJJQAGI.jpg', 'release_date': '2024-08-15', 'title': 'The Union', 'video': False, 'vote_average': 6.3, 'vote_count': 467}, {'adult': False, 'backdrop_path': '/pzFbYJfqGKlGxOsDIIsUi6YxVQ.jpg', 'genre_ids': [35, 878], 'id': 1094138, 'original_language': 'en', 'original_title': 'Jackpot!', 'overview': \"In the near future, a 'Grand Lottery' has been established - the catch: kill the winner before sundown to legally claim their multi-billion dollar jackpot. When Katie Kim mistakenly finds herself with the winning ticket, she reluctantly joins forces with amateur lottery protection agent Noel Cassidy who must get her to sundown in exchange for a piece of her prize.\", 'popularity': 1032.319, 'poster_path': '/fOsamTFIyGxjw1jLSKdZYxQBJOT.jpg', 'release_date': '2024-08-13', 'title': 'Jackpot!', 'video': False, 'vote_average': 6.435, 'vote_count': 353}, {'adult': False, 'backdrop_path': '/hdFIdXwS8FSN2wIsuotjW1mshI0.jpg', 'genre_ids': [16, 35, 12, 10751], 'id': 831815, 'original_language': 'en', 'original_title': 'Saving Bikini Bottom: The Sandy Cheeks Movie', 'overview': 'When Bikini Bottom is scooped from the ocean, scientific squirrel Sandy Cheeks and her pal SpongeBob SquarePants saddle up for Texas to save their town.', 'popularity': 846.227, 'poster_path': '/30YnfZdMNIV7noWLdvmcJS0cbnQ.jpg', 'release_date': '2024-08-01', 'title': 'Saving Bikini Bottom: The Sandy Cheeks Movie', 'video': False, 'vote_average': 6.4, 'vote_count': 189}, {'adult': False, 'backdrop_path': '/1wP1phHo2CROOqzv7Azs0MT5esU.jpg', 'genre_ids': [16, 35, 10751, 12, 28], 'id': 748783, 'original_language': 'en', 'original_title': 'The Garfield Movie', 'overview': 'Garfield, the world-famous, Monday-hating, lasagna-loving indoor cat, is about to have a wild outdoor adventure! After an unexpected reunion with his long-lost father – scruffy street cat Vic – Garfield and his canine friend Odie are forced from their perfectly pampered life into joining Vic in a hilarious, high-stakes heist.', 'popularity': 681.698, 'poster_path': '/xYduFGuch9OwbCOEUiamml18ZoB.jpg', 'release_date': '2024-04-30', 'title': 'The Garfield Movie', 'video': False, 'vote_average': 7.157, 'vote_count': 852}, {'adult': False, 'backdrop_path': '/8sl07rkrNnZzTqRKWSKnk6bLnTZ.jpg', 'genre_ids': [80, 35, 28], 'id': 1059064, 'original_language': 'en', 'original_title': 'The Instigators', 'overview': 'Rory and Cobby are unlikely partners thrown together for a heist. But when it goes awry, they team up to outrun police, backward bureaucrats, and a vengeful crime boss.', 'popularity': 581.282, 'poster_path': '/pIz9csYn1yjrzQi0BuBZNJrTMi0.jpg', 'release_date': '2024-08-02', 'title': 'The Instigators', 'video': False, 'vote_average': 6.205, 'vote_count': 254}, {'adult': False, 'backdrop_path': '/vtuGtevnaJutCqWAmGfvb1wLByh.jpg', 'genre_ids': [35], 'id': 1008953, 'original_language': 'en', 'original_title': 'Incoming', 'overview': 'Their first week of high school. The biggest party of the year. Mistakes will be made as four teenage boys navigate a night of mayhem and debauchery.', 'popularity': 494.575, 'poster_path': '/k2ySukuAiAarLns0yttKS3jg85Y.jpg', 'release_date': '2024-08-22', 'title': 'Incoming', 'video': False, 'vote_average': 5.864, 'vote_count': 88}, {'adult': False, 'backdrop_path': '/dNplOw9U5IzlY7nNiaMS0JSVobp.jpg', 'genre_ids': [35, 18], 'id': 1029955, 'original_language': 'en', 'original_title': 'Kinds of Kindness', 'overview': 'A triptych fable following a man without choice who tries to take control of his own life; a policeman who is alarmed that his wife who was missing-at-sea has returned and seems a different person; and a woman determined to find a specific someone with a special ability, who is destined to become a prodigious spiritual leader.', 'popularity': 473.956, 'poster_path': '/8mmpltkcG9areafsQHXaURedno3.jpg', 'release_date': '2024-05-30', 'title': 'Kinds of Kindness', 'video': False, 'vote_average': 6.762, 'vote_count': 437}, {'adult': False, 'backdrop_path': '/lyEuje8cKjbWliYUGrOaoHVmc1R.jpg', 'genre_ids': [28, 35, 12], 'id': 1002088, 'original_language': 'ko', 'original_title': '크로스', 'overview': \"In the ultimate test of marriage, an agent-turned-househusband gets tangled in a perilous mission with his detective wife, who's clueless about his past.\", 'popularity': 439.212, 'poster_path': '/aE9WqOApdRYsowsGE0118dyA4c9.jpg', 'release_date': '2024-08-05', 'title': 'Mission: Cross', 'video': False, 'vote_average': 6.877, 'vote_count': 81}, {'adult': False, 'backdrop_path': '/dn3gbDpXPSwC6saMJOHkCiFA9jn.jpg', 'genre_ids': [14, 12, 10751, 35], 'id': 974262, 'original_language': 'en', 'original_title': 'Descendants: The Rise of Red', 'overview': \"After the Queen of Hearts incites a coup on Auradon, her rebellious daughter Red and Cinderella's perfectionist daughter Chloe join forces and travel back in time to try to undo the traumatic event that set Red's mother down her villainous path.\", 'popularity': 422.111, 'poster_path': '/t9u9FWpKlZcp0Wz1qPeV5AIzDsk.jpg', 'release_date': '2024-07-11', 'title': 'Descendants: The Rise of Red', 'video': False, 'vote_average': 7.0, 'vote_count': 280}, {'adult': False, 'backdrop_path': '/hP3HWRujFCM2qLUYhSAJEm23ElP.jpg', 'genre_ids': [10749, 35, 18], 'id': 1096342, 'original_language': 'en', 'original_title': 'Beautiful Wedding', 'overview': 'Abby and Travis wake after a crazy night in Vegas as accidental newlyweds! With the mob on their heels, they flee to Mexico for a wild, weird honeymoon—but are they in for another disaster?', 'popularity': 406.204, 'poster_path': '/6214Uk9CZZcIibI84o5DEtbhfyk.jpg', 'release_date': '2024-01-24', 'title': 'Beautiful Wedding', 'video': False, 'vote_average': 5.3, 'vote_count': 146}, {'adult': False, 'backdrop_path': '/wkPPRIducGfsbaUPsWfw0MCQdX7.jpg', 'genre_ids': [28, 35, 12], 'id': 1051891, 'original_language': 'en', 'original_title': 'Thelma', 'overview': 'When 93-year-old Thelma Post gets duped by a phone scammer pretending to be her grandson, she sets out on a treacherous quest across the city to reclaim what was taken from her.', 'popularity': 402.182, 'poster_path': '/rUcuageYgv9SsJoWuc0seRWG6JC.jpg', 'release_date': '2024-06-21', 'title': 'Thelma', 'video': False, 'vote_average': 7.0, 'vote_count': 89}, {'adult': False, 'backdrop_path': '/daPfRplOfeDVHt4cNL9aNbSG931.jpg', 'genre_ids': [878, 10751, 35, 28], 'id': 939243, 'original_language': 'en', 'original_title': 'Sonic the Hedgehog 3', 'overview': 'Sonic, Knuckles, and Tails reunite against a powerful new adversary, Shadow, a mysterious villain with powers unlike anything they have faced before. With their abilities outmatched in every way, Team Sonic must seek out an unlikely alliance in hopes of stopping Shadow and protecting the planet.', 'popularity': 379.117, 'poster_path': '/4YzDggHQjVfSpaY2TWefTtlV6ca.jpg', 'release_date': '2024-12-19', 'title': 'Sonic the Hedgehog 3', 'video': False, 'vote_average': 0.0, 'vote_count': 0}, {'adult': False, 'backdrop_path': '/61yrVrkOH75fUtExDZ4Hi0KqOmc.jpg', 'genre_ids': [27, 53, 35], 'id': 1225377, 'original_language': 'en', 'original_title': 'The Mouse Trap', 'overview': \"It's Alex's 21st Birthday, but she's stuck at the amusement arcade on a late shift so her friends decide to surprise her, but a masked killer dressed as Mickey Mouse decides to play a game of his own with them which she must survive.\", 'popularity': 367.004, 'poster_path': '/3ovFaFeojLFIl5ClqhtgYMDS8sE.jpg', 'release_date': '2024-08-23', 'title': 'The Mouse Trap', 'video': False, 'vote_average': 5.2, 'vote_count': 20}, {'adult': False, 'backdrop_path': '/s5znBQmprDJJ553IMQfwEVlfroH.jpg', 'genre_ids': [28, 35, 10752], 'id': 799583, 'original_language': 'en', 'original_title': 'The Ministry of Ungentlemanly Warfare', 'overview': 'During World War II, the British Army assigns a group of competent soldiers to carry out a mission against the Nazi forces behind enemy lines... A true story about a secret British WWII organization – the Special Operations Executive. Founded by Winston Churchill, their irregular warfare against the Germans helped to change the course of the war, and gave birth to modern black operations.', 'popularity': 348.465, 'poster_path': '/8aF0iAKH9MJMYAZdi0Slg77RYa2.jpg', 'release_date': '2024-04-18', 'title': 'The Ministry of Ungentlemanly Warfare', 'video': False, 'vote_average': 7.124, 'vote_count': 906}, {'adult': False, 'backdrop_path': '/sIzZQdXY21sEks9lGkGuXzqdGSA.jpg', 'genre_ids': [14, 35], 'id': 4011, 'original_language': 'en', 'original_title': 'Beetlejuice', 'overview': 'A newly dead New England couple seek help from a deranged demon exorcist to scare an affluent New York family out of their home.', 'popularity': 343.276, 'poster_path': '/nnl6OWkyPpuMm595hmAxNW3rZFn.jpg', 'release_date': '1988-03-30', 'title': 'Beetlejuice', 'video': False, 'vote_average': 7.382, 'vote_count': 6684}, {'adult': False, 'backdrop_path': '/5P0FeTl1mO65Xa5xjTIG6Iqdls0.jpg', 'genre_ids': [28, 35], 'id': 1166073, 'original_language': 'zh', 'original_title': '還錢', 'overview': 'Double-crossed after a bank heist, a team of professional thieves attempts an even more challenging mission: returning the money they stole.', 'popularity': 343.078, 'poster_path': '/o1UJBhJzTiDn8KDrjxgBTpmo38P.jpg', 'release_date': '2024-02-08', 'title': 'Breaking and Re-entering', 'video': False, 'vote_average': 5.83, 'vote_count': 44}], 'total_pages': 6849, 'total_results': 136974}\n"
     ]
    },
    {
     "data": {
      "text/plain": [
       "<Response [200]>"
      ]
     },
     "execution_count": 39,
     "metadata": {},
     "output_type": "execute_result"
    }
   ],
   "source": [
    "get_movies(1)"
   ]
  },
  {
   "cell_type": "code",
   "execution_count": 50,
   "metadata": {},
   "outputs": [],
   "source": [
    "df = pd.DataFrame(columns=['title','related_genres','genre'])\n",
    "for page in range(1,16):\n",
    "        all_movies_response = get_movies(page)\n",
    "        if all_movies_response.status_code!=200:\n",
    "              break\n",
    "        all_comedy_movies = all_movies_response.json()\n",
    "        movie_info = []\n",
    "        \n",
    "        for movie in all_comedy_movies['results']:\n",
    "            movie_info = []\n",
    "            title = movie['title']\n",
    "            movie_info.append(title)\n",
    "            related_genres = movie['genre_ids']\n",
    "            genre = movie['id']\n",
    "            movie_info.append(related_genres)\n",
    "            movie_info.append(genre)\n",
    "            # print(movie_info)\n",
    "            df.loc[len(df)] = movie_info"
   ]
  },
  {
   "cell_type": "code",
   "execution_count": 51,
   "metadata": {},
   "outputs": [
    {
     "data": {
      "text/html": [
       "<div>\n",
       "<style scoped>\n",
       "    .dataframe tbody tr th:only-of-type {\n",
       "        vertical-align: middle;\n",
       "    }\n",
       "\n",
       "    .dataframe tbody tr th {\n",
       "        vertical-align: top;\n",
       "    }\n",
       "\n",
       "    .dataframe thead th {\n",
       "        text-align: right;\n",
       "    }\n",
       "</style>\n",
       "<table border=\"1\" class=\"dataframe\">\n",
       "  <thead>\n",
       "    <tr style=\"text-align: right;\">\n",
       "      <th></th>\n",
       "      <th>title</th>\n",
       "      <th>related_genres</th>\n",
       "      <th>genre</th>\n",
       "    </tr>\n",
       "  </thead>\n",
       "  <tbody>\n",
       "    <tr>\n",
       "      <th>0</th>\n",
       "      <td>Deadpool &amp; Wolverine</td>\n",
       "      <td>[28, 35, 878]</td>\n",
       "      <td>533535</td>\n",
       "    </tr>\n",
       "    <tr>\n",
       "      <th>1</th>\n",
       "      <td>Inside Out 2</td>\n",
       "      <td>[16, 10751, 12, 35]</td>\n",
       "      <td>1022789</td>\n",
       "    </tr>\n",
       "    <tr>\n",
       "      <th>2</th>\n",
       "      <td>Despicable Me 4</td>\n",
       "      <td>[16, 10751, 35, 28]</td>\n",
       "      <td>519182</td>\n",
       "    </tr>\n",
       "    <tr>\n",
       "      <th>3</th>\n",
       "      <td>Bad Boys: Ride or Die</td>\n",
       "      <td>[28, 80, 53, 35]</td>\n",
       "      <td>573435</td>\n",
       "    </tr>\n",
       "    <tr>\n",
       "      <th>4</th>\n",
       "      <td>The Union</td>\n",
       "      <td>[28, 35]</td>\n",
       "      <td>704239</td>\n",
       "    </tr>\n",
       "  </tbody>\n",
       "</table>\n",
       "</div>"
      ],
      "text/plain": [
       "                   title       related_genres    genre\n",
       "0   Deadpool & Wolverine        [28, 35, 878]   533535\n",
       "1           Inside Out 2  [16, 10751, 12, 35]  1022789\n",
       "2        Despicable Me 4  [16, 10751, 35, 28]   519182\n",
       "3  Bad Boys: Ride or Die     [28, 80, 53, 35]   573435\n",
       "4              The Union             [28, 35]   704239"
      ]
     },
     "execution_count": 51,
     "metadata": {},
     "output_type": "execute_result"
    }
   ],
   "source": [
    "df.head()"
   ]
  },
  {
   "cell_type": "code",
   "execution_count": 52,
   "metadata": {},
   "outputs": [],
   "source": [
    "df.to_csv('movie_ID_name.csv')"
   ]
  }
 ],
 "metadata": {
  "kernelspec": {
   "display_name": "Python 3",
   "language": "python",
   "name": "python3"
  },
  "language_info": {
   "codemirror_mode": {
    "name": "ipython",
    "version": 3
   },
   "file_extension": ".py",
   "mimetype": "text/x-python",
   "name": "python",
   "nbconvert_exporter": "python",
   "pygments_lexer": "ipython3",
   "version": "3.12.3"
  }
 },
 "nbformat": 4,
 "nbformat_minor": 2
}
