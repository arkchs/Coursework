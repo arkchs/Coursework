{
 "cells": [
  {
   "cell_type": "markdown",
   "metadata": {},
   "source": [
    "python doesn't really have access to threads"
   ]
  },
  {
   "cell_type": "code",
   "execution_count": 4,
   "metadata": {},
   "outputs": [],
   "source": [
    "import threading\n",
    "import time"
   ]
  },
  {
   "cell_type": "code",
   "execution_count": 10,
   "metadata": {},
   "outputs": [
    {
     "name": "stdout",
     "output_type": "stream",
     "text": [
      "Thread 1:1\n",
      "Thread 2:1\n"
     ]
    },
    {
     "name": "stdout",
     "output_type": "stream",
     "text": [
      "Thread 1:2\n",
      "Thread 2:2\n",
      "Thread 1:3\n",
      "Thread 2:3\n",
      "Thread 1:4\n",
      "Thread 2:4\n",
      "Thread 2:5\n",
      "Thread 1:5\n",
      "Thread 1:6Thread 2:6\n",
      "\n",
      "Thread 1:7Thread 2:7\n",
      "\n",
      "Thread 2:8\n",
      "Thread 1:8\n",
      "Thread 2:9\n",
      "Thread 1:9\n",
      "Thread 1:10\n",
      "Thread 2:10\n"
     ]
    }
   ],
   "source": [
    "done = False\n",
    "def print_numbers(thread_name):\n",
    "    for i in range(1,11):\n",
    "        print(f\"{thread_name}:{i}\")\n",
    "        time.sleep(1)\n",
    "thread1= threading.Thread(target=print_numbers, args=(\"Thread 1\",))\n",
    "thread2 = threading.Thread(target=print_numbers, args=(\"Thread 2\",))\n",
    "thread1.start()\n",
    "thread2.start()"
   ]
  },
  {
   "cell_type": "code",
   "execution_count": 12,
   "metadata": {},
   "outputs": [
    {
     "name": "stdout",
     "output_type": "stream",
     "text": [
      " * Serving Flask app '__main__'\n",
      " * Debug mode: on\n"
     ]
    },
    {
     "name": "stderr",
     "output_type": "stream",
     "text": [
      "WARNING: This is a development server. Do not use it in a production deployment. Use a production WSGI server instead.\n",
      " * Running on http://127.0.0.1:5000\n",
      "Press CTRL+C to quit\n",
      " * Restarting with stat\n"
     ]
    },
    {
     "ename": "SystemExit",
     "evalue": "1",
     "output_type": "error",
     "traceback": [
      "An exception has occurred, use %tb to see the full traceback.\n",
      "\u001b[1;31mSystemExit\u001b[0m\u001b[1;31m:\u001b[0m 1\n"
     ]
    }
   ],
   "source": [
    "from flask import Flask\n",
    "import threading\n",
    "import time\n",
    "app = Flask(__name__)\n",
    "def print_numbers(thread_name):\n",
    "    for i in range(1, 11):\n",
    "        print(f\"{thread_name}: {i}\")\n",
    "        time.sleep(1)\n",
    "@app.route('/')\n",
    "def index():\n",
    "    thread1 = threading.Thread(target=print_numbers, args=(\"Thread 1\",))\n",
    "    thread2 = threading.Thread(target=print_numbers, args=(\"Thread 2\",))\n",
    "    thread1.start()\n",
    "    thread2.start()\n",
    "    return \"Threads started!\"\n",
    "if __name__ == '__main__':\n",
    " app.run(debug=True)"
   ]
  }
 ],
 "metadata": {
  "kernelspec": {
   "display_name": "Python 3",
   "language": "python",
   "name": "python3"
  },
  "language_info": {
   "codemirror_mode": {
    "name": "ipython",
    "version": 3
   },
   "file_extension": ".py",
   "mimetype": "text/x-python",
   "name": "python",
   "nbconvert_exporter": "python",
   "pygments_lexer": "ipython3",
   "version": "3.12.3"
  }
 },
 "nbformat": 4,
 "nbformat_minor": 2
}
