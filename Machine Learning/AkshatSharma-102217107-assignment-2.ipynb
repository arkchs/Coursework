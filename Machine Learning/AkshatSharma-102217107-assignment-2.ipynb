{
  "cells": [
    {
      "cell_type": "markdown",
      "metadata": {},
      "source": [
        "# __Akshat Sharma 102217107__"
      ]
    },
    {
      "cell_type": "code",
      "execution_count": 2,
      "metadata": {
        "colab": {
          "base_uri": "https://localhost:8080/"
        },
        "id": "vhPHudjPRltv",
        "outputId": "290e57dd-5fa6-4784-e14e-359047194bab"
      },
      "outputs": [
        {
          "name": "stdout",
          "output_type": "stream",
          "text": [
            "Requirement already satisfied: opendatasets in c:\\users\\aksha\\appdata\\local\\programs\\python\\python312\\lib\\site-packages (0.1.22)\n",
            "Requirement already satisfied: tqdm in c:\\users\\aksha\\appdata\\local\\programs\\python\\python312\\lib\\site-packages (from opendatasets) (4.66.4)\n",
            "Requirement already satisfied: kaggle in c:\\users\\aksha\\appdata\\local\\programs\\python\\python312\\lib\\site-packages (from opendatasets) (1.6.17)\n",
            "Requirement already satisfied: click in c:\\users\\aksha\\appdata\\local\\programs\\python\\python312\\lib\\site-packages (from opendatasets) (8.1.7)\n",
            "Requirement already satisfied: colorama in c:\\users\\aksha\\appdata\\roaming\\python\\python312\\site-packages (from click->opendatasets) (0.4.6)\n",
            "Requirement already satisfied: six>=1.10 in c:\\users\\aksha\\appdata\\roaming\\python\\python312\\site-packages (from kaggle->opendatasets) (1.16.0)\n",
            "Requirement already satisfied: certifi>=2023.7.22 in c:\\users\\aksha\\appdata\\local\\programs\\python\\python312\\lib\\site-packages (from kaggle->opendatasets) (2024.7.4)\n",
            "Requirement already satisfied: python-dateutil in c:\\users\\aksha\\appdata\\roaming\\python\\python312\\site-packages (from kaggle->opendatasets) (2.9.0.post0)\n",
            "Requirement already satisfied: requests in c:\\users\\aksha\\appdata\\local\\programs\\python\\python312\\lib\\site-packages (from kaggle->opendatasets) (2.32.3)\n",
            "Requirement already satisfied: python-slugify in c:\\users\\aksha\\appdata\\local\\programs\\python\\python312\\lib\\site-packages (from kaggle->opendatasets) (8.0.4)\n",
            "Requirement already satisfied: urllib3 in c:\\users\\aksha\\appdata\\local\\programs\\python\\python312\\lib\\site-packages (from kaggle->opendatasets) (1.26.5)\n",
            "Requirement already satisfied: bleach in c:\\users\\aksha\\appdata\\local\\programs\\python\\python312\\lib\\site-packages (from kaggle->opendatasets) (6.1.0)\n",
            "Requirement already satisfied: webencodings in c:\\users\\aksha\\appdata\\local\\programs\\python\\python312\\lib\\site-packages (from bleach->kaggle->opendatasets) (0.5.1)\n",
            "Requirement already satisfied: text-unidecode>=1.3 in c:\\users\\aksha\\appdata\\local\\programs\\python\\python312\\lib\\site-packages (from python-slugify->kaggle->opendatasets) (1.3)\n",
            "Requirement already satisfied: charset-normalizer<4,>=2 in c:\\users\\aksha\\appdata\\local\\programs\\python\\python312\\lib\\site-packages (from requests->kaggle->opendatasets) (3.3.2)\n",
            "Requirement already satisfied: idna<4,>=2.5 in c:\\users\\aksha\\appdata\\local\\programs\\python\\python312\\lib\\site-packages (from requests->kaggle->opendatasets) (2.10)\n",
            "Note: you may need to restart the kernel to use updated packages.\n"
          ]
        },
        {
          "name": "stderr",
          "output_type": "stream",
          "text": [
            "\n",
            "[notice] A new release of pip is available: 24.0 -> 24.2\n",
            "[notice] To update, run: python.exe -m pip install --upgrade pip\n"
          ]
        },
        {
          "name": "stdout",
          "output_type": "stream",
          "text": [
            "Requirement already satisfied: pandas in c:\\users\\aksha\\appdata\\local\\programs\\python\\python312\\lib\\site-packages (2.1.4)\n",
            "Requirement already satisfied: numpy<2,>=1.26.0 in c:\\users\\aksha\\appdata\\local\\programs\\python\\python312\\lib\\site-packages (from pandas) (1.26.4)\n",
            "Requirement already satisfied: python-dateutil>=2.8.2 in c:\\users\\aksha\\appdata\\roaming\\python\\python312\\site-packages (from pandas) (2.9.0.post0)\n",
            "Requirement already satisfied: pytz>=2020.1 in c:\\users\\aksha\\appdata\\local\\programs\\python\\python312\\lib\\site-packages (from pandas) (2021.1)\n",
            "Requirement already satisfied: tzdata>=2022.1 in c:\\users\\aksha\\appdata\\local\\programs\\python\\python312\\lib\\site-packages (from pandas) (2024.1)\n",
            "Requirement already satisfied: six>=1.5 in c:\\users\\aksha\\appdata\\roaming\\python\\python312\\site-packages (from python-dateutil>=2.8.2->pandas) (1.16.0)\n",
            "Note: you may need to restart the kernel to use updated packages.\n"
          ]
        },
        {
          "name": "stderr",
          "output_type": "stream",
          "text": [
            "\n",
            "[notice] A new release of pip is available: 24.0 -> 24.2\n",
            "[notice] To update, run: python.exe -m pip install --upgrade pip\n"
          ]
        }
      ],
      "source": [
        "%pip install opendatasets\n",
        "%pip install pandas"
      ]
    },
    {
      "cell_type": "code",
      "execution_count": 3,
      "metadata": {
        "id": "mPTWtB5lSmj3"
      },
      "outputs": [],
      "source": [
        "import pandas as pd\n",
        "import opendatasets as od\n"
      ]
    },
    {
      "cell_type": "code",
      "execution_count": 4,
      "metadata": {
        "colab": {
          "base_uri": "https://localhost:8080/"
        },
        "id": "8rrX9U-nTZN-",
        "outputId": "ebf8ba3b-9920-48ea-dc8d-7c5cdae83b00"
      },
      "outputs": [
        {
          "name": "stdout",
          "output_type": "stream",
          "text": [
            "Skipping, found downloaded files in \".\\microsoft-adventure-works-cycles-customer-data\" (use force=True to force download)\n"
          ]
        }
      ],
      "source": [
        "od.download(\"https://www.kaggle.com/jahias/microsoft-adventure-works-cycles-customer-data\")"
      ]
    },
    {
      "cell_type": "markdown",
      "metadata": {
        "id": "Zo-n18ZXZiS3"
      },
      "source": [
        "##Creating a dataframe and viewing the first five entries."
      ]
    },
    {
      "cell_type": "code",
      "execution_count": 5,
      "metadata": {
        "colab": {
          "base_uri": "https://localhost:8080/",
          "height": 342
        },
        "id": "3hRTzc-tTm3m",
        "outputId": "3cf1a0a9-ef6f-4028-de2c-8b255990fa12"
      },
      "outputs": [
        {
          "data": {
            "text/html": [
              "<div>\n",
              "<style scoped>\n",
              "    .dataframe tbody tr th:only-of-type {\n",
              "        vertical-align: middle;\n",
              "    }\n",
              "\n",
              "    .dataframe tbody tr th {\n",
              "        vertical-align: top;\n",
              "    }\n",
              "\n",
              "    .dataframe thead th {\n",
              "        text-align: right;\n",
              "    }\n",
              "</style>\n",
              "<table border=\"1\" class=\"dataframe\">\n",
              "  <thead>\n",
              "    <tr style=\"text-align: right;\">\n",
              "      <th></th>\n",
              "      <th>CustomerID</th>\n",
              "      <th>Title</th>\n",
              "      <th>FirstName</th>\n",
              "      <th>MiddleName</th>\n",
              "      <th>LastName</th>\n",
              "      <th>Suffix</th>\n",
              "      <th>AddressLine1</th>\n",
              "      <th>AddressLine2</th>\n",
              "      <th>City</th>\n",
              "      <th>StateProvinceName</th>\n",
              "      <th>...</th>\n",
              "      <th>Education</th>\n",
              "      <th>Occupation</th>\n",
              "      <th>Gender</th>\n",
              "      <th>MaritalStatus</th>\n",
              "      <th>HomeOwnerFlag</th>\n",
              "      <th>NumberCarsOwned</th>\n",
              "      <th>NumberChildrenAtHome</th>\n",
              "      <th>TotalChildren</th>\n",
              "      <th>YearlyIncome</th>\n",
              "      <th>LastUpdated</th>\n",
              "    </tr>\n",
              "  </thead>\n",
              "  <tbody>\n",
              "    <tr>\n",
              "      <th>0</th>\n",
              "      <td>21173</td>\n",
              "      <td>NaN</td>\n",
              "      <td>Chad</td>\n",
              "      <td>C</td>\n",
              "      <td>Yuan</td>\n",
              "      <td>NaN</td>\n",
              "      <td>7090 C. Mount Hood</td>\n",
              "      <td>NaN</td>\n",
              "      <td>Wollongong</td>\n",
              "      <td>New South Wales</td>\n",
              "      <td>...</td>\n",
              "      <td>Bachelors</td>\n",
              "      <td>Clerical</td>\n",
              "      <td>M</td>\n",
              "      <td>M</td>\n",
              "      <td>1</td>\n",
              "      <td>3</td>\n",
              "      <td>0</td>\n",
              "      <td>1</td>\n",
              "      <td>81916</td>\n",
              "      <td>2017-03-06</td>\n",
              "    </tr>\n",
              "    <tr>\n",
              "      <th>1</th>\n",
              "      <td>13249</td>\n",
              "      <td>NaN</td>\n",
              "      <td>Ryan</td>\n",
              "      <td>NaN</td>\n",
              "      <td>Perry</td>\n",
              "      <td>NaN</td>\n",
              "      <td>3651 Willow Lake Rd</td>\n",
              "      <td>NaN</td>\n",
              "      <td>Shawnee</td>\n",
              "      <td>British Columbia</td>\n",
              "      <td>...</td>\n",
              "      <td>Partial College</td>\n",
              "      <td>Clerical</td>\n",
              "      <td>M</td>\n",
              "      <td>M</td>\n",
              "      <td>1</td>\n",
              "      <td>2</td>\n",
              "      <td>1</td>\n",
              "      <td>2</td>\n",
              "      <td>81076</td>\n",
              "      <td>2017-03-06</td>\n",
              "    </tr>\n",
              "    <tr>\n",
              "      <th>2</th>\n",
              "      <td>29350</td>\n",
              "      <td>NaN</td>\n",
              "      <td>Julia</td>\n",
              "      <td>NaN</td>\n",
              "      <td>Thompson</td>\n",
              "      <td>NaN</td>\n",
              "      <td>1774 Tice Valley Blvd.</td>\n",
              "      <td>NaN</td>\n",
              "      <td>West Covina</td>\n",
              "      <td>California</td>\n",
              "      <td>...</td>\n",
              "      <td>Bachelors</td>\n",
              "      <td>Clerical</td>\n",
              "      <td>F</td>\n",
              "      <td>S</td>\n",
              "      <td>0</td>\n",
              "      <td>3</td>\n",
              "      <td>0</td>\n",
              "      <td>0</td>\n",
              "      <td>86387</td>\n",
              "      <td>2017-03-06</td>\n",
              "    </tr>\n",
              "    <tr>\n",
              "      <th>3</th>\n",
              "      <td>13503</td>\n",
              "      <td>NaN</td>\n",
              "      <td>Theodore</td>\n",
              "      <td>NaN</td>\n",
              "      <td>Gomez</td>\n",
              "      <td>NaN</td>\n",
              "      <td>2103 Baldwin Dr</td>\n",
              "      <td>NaN</td>\n",
              "      <td>Liverpool</td>\n",
              "      <td>England</td>\n",
              "      <td>...</td>\n",
              "      <td>Partial College</td>\n",
              "      <td>Skilled Manual</td>\n",
              "      <td>M</td>\n",
              "      <td>M</td>\n",
              "      <td>1</td>\n",
              "      <td>2</td>\n",
              "      <td>1</td>\n",
              "      <td>2</td>\n",
              "      <td>61481</td>\n",
              "      <td>2017-03-06</td>\n",
              "    </tr>\n",
              "    <tr>\n",
              "      <th>4</th>\n",
              "      <td>22803</td>\n",
              "      <td>NaN</td>\n",
              "      <td>Marshall</td>\n",
              "      <td>J</td>\n",
              "      <td>Shan</td>\n",
              "      <td>NaN</td>\n",
              "      <td>Am Gallberg 234</td>\n",
              "      <td>NaN</td>\n",
              "      <td>Werne</td>\n",
              "      <td>Nordrhein-Westfalen</td>\n",
              "      <td>...</td>\n",
              "      <td>Partial College</td>\n",
              "      <td>Skilled Manual</td>\n",
              "      <td>M</td>\n",
              "      <td>S</td>\n",
              "      <td>1</td>\n",
              "      <td>1</td>\n",
              "      <td>0</td>\n",
              "      <td>0</td>\n",
              "      <td>51804</td>\n",
              "      <td>2017-03-06</td>\n",
              "    </tr>\n",
              "  </tbody>\n",
              "</table>\n",
              "<p>5 rows × 24 columns</p>\n",
              "</div>"
            ],
            "text/plain": [
              "   CustomerID Title FirstName MiddleName  LastName Suffix  \\\n",
              "0       21173   NaN      Chad          C      Yuan    NaN   \n",
              "1       13249   NaN      Ryan        NaN     Perry    NaN   \n",
              "2       29350   NaN     Julia        NaN  Thompson    NaN   \n",
              "3       13503   NaN  Theodore        NaN     Gomez    NaN   \n",
              "4       22803   NaN  Marshall          J      Shan    NaN   \n",
              "\n",
              "             AddressLine1 AddressLine2         City    StateProvinceName  ...  \\\n",
              "0      7090 C. Mount Hood          NaN   Wollongong      New South Wales  ...   \n",
              "1     3651 Willow Lake Rd          NaN      Shawnee     British Columbia  ...   \n",
              "2  1774 Tice Valley Blvd.          NaN  West Covina           California  ...   \n",
              "3         2103 Baldwin Dr          NaN    Liverpool              England  ...   \n",
              "4         Am Gallberg 234          NaN        Werne  Nordrhein-Westfalen  ...   \n",
              "\n",
              "         Education      Occupation Gender MaritalStatus HomeOwnerFlag  \\\n",
              "0        Bachelors        Clerical      M             M             1   \n",
              "1  Partial College        Clerical      M             M             1   \n",
              "2        Bachelors        Clerical      F             S             0   \n",
              "3  Partial College  Skilled Manual      M             M             1   \n",
              "4  Partial College  Skilled Manual      M             S             1   \n",
              "\n",
              "  NumberCarsOwned NumberChildrenAtHome TotalChildren  YearlyIncome  \\\n",
              "0               3                    0             1         81916   \n",
              "1               2                    1             2         81076   \n",
              "2               3                    0             0         86387   \n",
              "3               2                    1             2         61481   \n",
              "4               1                    0             0         51804   \n",
              "\n",
              "   LastUpdated  \n",
              "0   2017-03-06  \n",
              "1   2017-03-06  \n",
              "2   2017-03-06  \n",
              "3   2017-03-06  \n",
              "4   2017-03-06  \n",
              "\n",
              "[5 rows x 24 columns]"
            ]
          },
          "execution_count": 5,
          "metadata": {},
          "output_type": "execute_result"
        }
      ],
      "source": [
        "file = (\"microsoft-adventure-works-cycles-customer-data/AWCustomers.csv\")\n",
        "df = pd.read_csv(file)\n",
        "df.head()\n"
      ]
    },
    {
      "cell_type": "code",
      "execution_count": 6,
      "metadata": {
        "colab": {
          "base_uri": "https://localhost:8080/",
          "height": 499
        },
        "id": "-Q581oMihpd5",
        "outputId": "f380e76e-df8b-4b45-ac2f-c77ce30ba4fc"
      },
      "outputs": [
        {
          "data": {
            "text/plain": [
              "(array([18291.,     0.,     0.,     0.,     0.,     0.,     0.,     0.,\n",
              "            0.,    70.]),\n",
              " array([0. , 0.1, 0.2, 0.3, 0.4, 0.5, 0.6, 0.7, 0.8, 0.9, 1. ]),\n",
              " <BarContainer object of 10 artists>)"
            ]
          },
          "execution_count": 6,
          "metadata": {},
          "output_type": "execute_result"
        },
        {
          "data": {
            "image/png": "[encoded data removed]",
            "text/plain": [
              "<Figure size 640x480 with 1 Axes>"
            ]
          },
          "metadata": {},
          "output_type": "display_data"
        }
      ],
      "source": [
        "import matplotlib.pyplot as plt\n",
        "plt.hist(df['LastUpdated'])"
      ]
    },
    {
      "cell_type": "code",
      "execution_count": 7,
      "metadata": {
        "colab": {
          "base_uri": "https://localhost:8080/",
          "height": 206
        },
        "id": "lA9JADozXLLe",
        "outputId": "b5d068ac-158d-4ad3-deea-29f08bf36ac7"
      },
      "outputs": [
        {
          "data": {
            "text/html": [
              "<div>\n",
              "<style scoped>\n",
              "    .dataframe tbody tr th:only-of-type {\n",
              "        vertical-align: middle;\n",
              "    }\n",
              "\n",
              "    .dataframe tbody tr th {\n",
              "        vertical-align: top;\n",
              "    }\n",
              "\n",
              "    .dataframe thead th {\n",
              "        text-align: right;\n",
              "    }\n",
              "</style>\n",
              "<table border=\"1\" class=\"dataframe\">\n",
              "  <thead>\n",
              "    <tr style=\"text-align: right;\">\n",
              "      <th></th>\n",
              "      <th>CustomerID</th>\n",
              "      <th>BikeBuyer</th>\n",
              "      <th>AvgMonthSpend</th>\n",
              "    </tr>\n",
              "  </thead>\n",
              "  <tbody>\n",
              "    <tr>\n",
              "      <th>0</th>\n",
              "      <td>21173</td>\n",
              "      <td>1</td>\n",
              "      <td>50.97</td>\n",
              "    </tr>\n",
              "    <tr>\n",
              "      <th>1</th>\n",
              "      <td>13249</td>\n",
              "      <td>1</td>\n",
              "      <td>53.11</td>\n",
              "    </tr>\n",
              "    <tr>\n",
              "      <th>2</th>\n",
              "      <td>29350</td>\n",
              "      <td>1</td>\n",
              "      <td>54.08</td>\n",
              "    </tr>\n",
              "    <tr>\n",
              "      <th>3</th>\n",
              "      <td>13503</td>\n",
              "      <td>1</td>\n",
              "      <td>56.93</td>\n",
              "    </tr>\n",
              "    <tr>\n",
              "      <th>4</th>\n",
              "      <td>22803</td>\n",
              "      <td>1</td>\n",
              "      <td>55.41</td>\n",
              "    </tr>\n",
              "  </tbody>\n",
              "</table>\n",
              "</div>"
            ],
            "text/plain": [
              "   CustomerID  BikeBuyer  AvgMonthSpend\n",
              "0       21173          1          50.97\n",
              "1       13249          1          53.11\n",
              "2       29350          1          54.08\n",
              "3       13503          1          56.93\n",
              "4       22803          1          55.41"
            ]
          },
          "execution_count": 7,
          "metadata": {},
          "output_type": "execute_result"
        }
      ],
      "source": [
        "sales_file = (\"microsoft-adventure-works-cycles-customer-data/AWSales.csv\")\n",
        "df_sales = pd.read_csv(sales_file)\n",
        "df_sales.head()\n"
      ]
    },
    {
      "cell_type": "markdown",
      "metadata": {
        "id": "tkGQmA7PZQXX"
      },
      "source": [
        "## What does the title column represent?"
      ]
    },
    {
      "cell_type": "code",
      "execution_count": 8,
      "metadata": {
        "colab": {
          "base_uri": "https://localhost:8080/"
        },
        "id": "yN5OPhsTX3Ff",
        "outputId": "4155f057-debf-4752-c0db-8be4b73aab92"
      },
      "outputs": [
        {
          "name": "stdout",
          "output_type": "stream",
          "text": [
            "18361\n"
          ]
        },
        {
          "data": {
            "text/plain": [
              "Index(['CustomerID', 'Title', 'FirstName', 'MiddleName', 'LastName', 'Suffix',\n",
              "       'AddressLine1', 'AddressLine2', 'City', 'StateProvinceName',\n",
              "       'CountryRegionName', 'PostalCode', 'PhoneNumber', 'BirthDate',\n",
              "       'Education', 'Occupation', 'Gender', 'MaritalStatus', 'HomeOwnerFlag',\n",
              "       'NumberCarsOwned', 'NumberChildrenAtHome', 'TotalChildren',\n",
              "       'YearlyIncome', 'LastUpdated'],\n",
              "      dtype='object')"
            ]
          },
          "execution_count": 8,
          "metadata": {},
          "output_type": "execute_result"
        }
      ],
      "source": [
        "# df.size\n",
        "print(df.shape[0])\n",
        "df_not_null_title = df[pd.notnull(df[\"Title\"])]\n",
        "df_not_null_title.head()\n",
        "df.columns"
      ]
    },
    {
      "cell_type": "markdown",
      "metadata": {
        "id": "dAlEHPIUaMOv"
      },
      "source": [
        "# __Analysis of Features for Selection__\n",
        "##    1. CustomerID is essential as it connects both the csvs\n",
        "##    2. BirthDate can be used to acquire the age of a certain person which can be useful for predicting the age groups that buy cycles the most.\n",
        "##    3. NumberChildrenAtHome is more important than TotalChildren as it is more likely for children at home to receive the cycle as a present\n",
        "##    4. Yearly Income is crucial whereas LastUpdated is not as important.\n",
        "**********************************************************************\n",
        "## 1. Title is not useful as gender can provide the same information and gender itself is also not useful in determining the buying probability.\n",
        "## 2. The 'FirstName', 'MiddleName', 'LastName', 'Suffix', 'AddressLine1', 'AddressLine2', 'City', 'StateProvinceName','CountryRegionName', 'PostalCode', 'PhoneNumber'. does not matter either as it doesn't reveal the customers' willingness to buy a certain commodity.\n",
        "## 3. Education and Occupation do not matter as much either\n",
        "## 4. MaritalStatus, HomeOwnerFlag does not matter\n"
      ]
    },
    {
      "cell_type": "code",
      "execution_count": 9,
      "metadata": {
        "colab": {
          "base_uri": "https://localhost:8080/",
          "height": 206
        },
        "id": "E4A8uTiaaK8n",
        "outputId": "e8e3d142-7263-4476-dc70-12789c4ebdbd"
      },
      "outputs": [
        {
          "data": {
            "text/html": [
              "<div>\n",
              "<style scoped>\n",
              "    .dataframe tbody tr th:only-of-type {\n",
              "        vertical-align: middle;\n",
              "    }\n",
              "\n",
              "    .dataframe tbody tr th {\n",
              "        vertical-align: top;\n",
              "    }\n",
              "\n",
              "    .dataframe thead th {\n",
              "        text-align: right;\n",
              "    }\n",
              "</style>\n",
              "<table border=\"1\" class=\"dataframe\">\n",
              "  <thead>\n",
              "    <tr style=\"text-align: right;\">\n",
              "      <th></th>\n",
              "      <th>CustomerID</th>\n",
              "      <th>BirthDate</th>\n",
              "      <th>NumberCarsOwned</th>\n",
              "      <th>NumberChildrenAtHome</th>\n",
              "      <th>YearlyIncome</th>\n",
              "    </tr>\n",
              "  </thead>\n",
              "  <tbody>\n",
              "    <tr>\n",
              "      <th>0</th>\n",
              "      <td>21173</td>\n",
              "      <td>1987-11-13</td>\n",
              "      <td>3</td>\n",
              "      <td>0</td>\n",
              "      <td>81916</td>\n",
              "    </tr>\n",
              "    <tr>\n",
              "      <th>1</th>\n",
              "      <td>13249</td>\n",
              "      <td>1972-07-21</td>\n",
              "      <td>2</td>\n",
              "      <td>1</td>\n",
              "      <td>81076</td>\n",
              "    </tr>\n",
              "    <tr>\n",
              "      <th>2</th>\n",
              "      <td>29350</td>\n",
              "      <td>1985-11-09</td>\n",
              "      <td>3</td>\n",
              "      <td>0</td>\n",
              "      <td>86387</td>\n",
              "    </tr>\n",
              "    <tr>\n",
              "      <th>3</th>\n",
              "      <td>13503</td>\n",
              "      <td>1977-10-18</td>\n",
              "      <td>2</td>\n",
              "      <td>1</td>\n",
              "      <td>61481</td>\n",
              "    </tr>\n",
              "    <tr>\n",
              "      <th>4</th>\n",
              "      <td>22803</td>\n",
              "      <td>1975-02-05</td>\n",
              "      <td>1</td>\n",
              "      <td>0</td>\n",
              "      <td>51804</td>\n",
              "    </tr>\n",
              "  </tbody>\n",
              "</table>\n",
              "</div>"
            ],
            "text/plain": [
              "   CustomerID   BirthDate  NumberCarsOwned  NumberChildrenAtHome  YearlyIncome\n",
              "0       21173  1987-11-13                3                     0         81916\n",
              "1       13249  1972-07-21                2                     1         81076\n",
              "2       29350  1985-11-09                3                     0         86387\n",
              "3       13503  1977-10-18                2                     1         61481\n",
              "4       22803  1975-02-05                1                     0         51804"
            ]
          },
          "execution_count": 9,
          "metadata": {},
          "output_type": "execute_result"
        }
      ],
      "source": [
        "dropped_features = [ 'Title', 'FirstName', 'MiddleName', 'LastName', 'Suffix',\n",
        "       'AddressLine1', 'AddressLine2', 'City', 'StateProvinceName',\n",
        "       'CountryRegionName', 'PostalCode', 'PhoneNumber','Occupation','Education',\n",
        "        'Gender', 'MaritalStatus', 'HomeOwnerFlag',\n",
        "        'TotalChildren',\n",
        "        'LastUpdated']\n",
        "\n",
        "df_sf = df.drop(columns=dropped_features)\n",
        "df_sf.head()"
      ]
    },
    {
      "cell_type": "markdown",
      "metadata": {
        "id": "DJtZBIwtg6qH"
      },
      "source": []
    },
    {
      "cell_type": "markdown",
      "metadata": {
        "id": "kKiXbyprjCDB"
      },
      "source": [
        "## CustomerID: Discrete Interval\n",
        "## BikerBuyer: Discrete Binary\n",
        "## NumberCarsOwned: Discrete Ratio\n",
        "## NumberChildrenAtHome: Discrete Ratio\n",
        "## YearlyIncome: Discrete Ratio\n",
        "## AvgMonthSpend: Continuous Ratio\n",
        "## BirthDate: Discrete Interval"
      ]
    },
    {
      "cell_type": "code",
      "execution_count": 10,
      "metadata": {
        "colab": {
          "base_uri": "https://localhost:8080/",
          "height": 206
        },
        "id": "aOiVWJ9vgL4C",
        "outputId": "14e48392-7500-42d0-fe0f-cea14689b89a"
      },
      "outputs": [
        {
          "data": {
            "text/html": [
              "<div>\n",
              "<style scoped>\n",
              "    .dataframe tbody tr th:only-of-type {\n",
              "        vertical-align: middle;\n",
              "    }\n",
              "\n",
              "    .dataframe tbody tr th {\n",
              "        vertical-align: top;\n",
              "    }\n",
              "\n",
              "    .dataframe thead th {\n",
              "        text-align: right;\n",
              "    }\n",
              "</style>\n",
              "<table border=\"1\" class=\"dataframe\">\n",
              "  <thead>\n",
              "    <tr style=\"text-align: right;\">\n",
              "      <th></th>\n",
              "      <th>CustomerID</th>\n",
              "      <th>BirthDate</th>\n",
              "      <th>NumberCarsOwned</th>\n",
              "      <th>NumberChildrenAtHome</th>\n",
              "      <th>YearlyIncome</th>\n",
              "      <th>BikeBuyer</th>\n",
              "      <th>AvgMonthSpend</th>\n",
              "    </tr>\n",
              "  </thead>\n",
              "  <tbody>\n",
              "    <tr>\n",
              "      <th>0</th>\n",
              "      <td>21173</td>\n",
              "      <td>1987-11-13</td>\n",
              "      <td>3</td>\n",
              "      <td>0</td>\n",
              "      <td>81916</td>\n",
              "      <td>1</td>\n",
              "      <td>50.97</td>\n",
              "    </tr>\n",
              "    <tr>\n",
              "      <th>1</th>\n",
              "      <td>13249</td>\n",
              "      <td>1972-07-21</td>\n",
              "      <td>2</td>\n",
              "      <td>1</td>\n",
              "      <td>81076</td>\n",
              "      <td>1</td>\n",
              "      <td>53.11</td>\n",
              "    </tr>\n",
              "    <tr>\n",
              "      <th>2</th>\n",
              "      <td>29350</td>\n",
              "      <td>1985-11-09</td>\n",
              "      <td>3</td>\n",
              "      <td>0</td>\n",
              "      <td>86387</td>\n",
              "      <td>1</td>\n",
              "      <td>54.08</td>\n",
              "    </tr>\n",
              "    <tr>\n",
              "      <th>3</th>\n",
              "      <td>13503</td>\n",
              "      <td>1977-10-18</td>\n",
              "      <td>2</td>\n",
              "      <td>1</td>\n",
              "      <td>61481</td>\n",
              "      <td>1</td>\n",
              "      <td>56.93</td>\n",
              "    </tr>\n",
              "    <tr>\n",
              "      <th>4</th>\n",
              "      <td>22803</td>\n",
              "      <td>1975-02-05</td>\n",
              "      <td>1</td>\n",
              "      <td>0</td>\n",
              "      <td>51804</td>\n",
              "      <td>1</td>\n",
              "      <td>55.41</td>\n",
              "    </tr>\n",
              "  </tbody>\n",
              "</table>\n",
              "</div>"
            ],
            "text/plain": [
              "   CustomerID   BirthDate  NumberCarsOwned  NumberChildrenAtHome  \\\n",
              "0       21173  1987-11-13                3                     0   \n",
              "1       13249  1972-07-21                2                     1   \n",
              "2       29350  1985-11-09                3                     0   \n",
              "3       13503  1977-10-18                2                     1   \n",
              "4       22803  1975-02-05                1                     0   \n",
              "\n",
              "   YearlyIncome  BikeBuyer  AvgMonthSpend  \n",
              "0         81916          1          50.97  \n",
              "1         81076          1          53.11  \n",
              "2         86387          1          54.08  \n",
              "3         61481          1          56.93  \n",
              "4         51804          1          55.41  "
            ]
          },
          "execution_count": 10,
          "metadata": {},
          "output_type": "execute_result"
        }
      ],
      "source": [
        "df_joined = pd.merge(df_sf,df_sales,on='CustomerID')\n",
        "df_joined.head()"
      ]
    },
    {
      "cell_type": "code",
      "execution_count": 11,
      "metadata": {
        "colab": {
          "base_uri": "https://localhost:8080/",
          "height": 489
        },
        "id": "I6M4ctR_rLEU",
        "outputId": "08989e96-de99-4f8f-e8c7-e4eeb965ecf9"
      },
      "outputs": [
        {
          "name": "stdout",
          "output_type": "stream",
          "text": [
            "18361\n"
          ]
        },
        {
          "data": {
            "image/png": "[encoded data removed]",
            "text/plain": [
              "<Figure size 640x480 with 1 Axes>"
            ]
          },
          "metadata": {},
          "output_type": "display_data"
        }
      ],
      "source": [
        "import numpy as np\n",
        "print(len(df_joined['AvgMonthSpend']))\n",
        "range = np.linspace(start=0,stop=18360, num=100)\n",
        "plt.plot(range, df_joined['AvgMonthSpend'].head(100), color='red', linestyle='dashed', marker='o', label='Avg Month Spend')\n",
        "plt.xlabel('Index')\n",
        "plt.ylabel('Average Monthly Spend')\n",
        "plt.title('Average Monthly Spend vs. Index')\n",
        "plt.legend()\n",
        "plt.grid(True)\n",
        "plt.show()"
      ]
    },
    {
      "cell_type": "markdown",
      "metadata": {
        "id": "cjgy7aHmDaol"
      },
      "source": [
        "# __Dealing With NULL values__\n"
      ]
    },
    {
      "cell_type": "code",
      "execution_count": 12,
      "metadata": {
        "colab": {
          "base_uri": "https://localhost:8080/",
          "height": 304
        },
        "id": "ZaSL5b72p7Rj",
        "outputId": "78662dc4-ee84-4d39-8a63-80db9d50b9bb"
      },
      "outputs": [
        {
          "data": {
            "text/plain": [
              "CustomerID              0\n",
              "BirthDate               0\n",
              "NumberCarsOwned         0\n",
              "NumberChildrenAtHome    0\n",
              "YearlyIncome            0\n",
              "BikeBuyer               0\n",
              "AvgMonthSpend           0\n",
              "dtype: int64"
            ]
          },
          "execution_count": 12,
          "metadata": {},
          "output_type": "execute_result"
        }
      ],
      "source": [
        "df_joined.isna().sum()\n"
      ]
    },
    {
      "cell_type": "markdown",
      "metadata": {
        "id": "k2Y7p2vQDXi4"
      },
      "source": [
        "# __Normalization__"
      ]
    },
    {
      "cell_type": "code",
      "execution_count": 13,
      "metadata": {
        "id": "srRdXsu9uozD"
      },
      "outputs": [],
      "source": [
        "from sklearn.preprocessing import MinMaxScaler\n",
        "scaler = MinMaxScaler()\n",
        "\n",
        "scaled_data_ams = scaler.fit_transform(df_joined[['AvgMonthSpend']])\n",
        "scaled_data_yi = scaler.fit_transform(df_joined[['YearlyIncome']])\n",
        "df_joined['AvgMonthSpend'] = scaled_data_ams.flatten()\n",
        "df_joined['YearlyIncome'] = scaled_data_yi.flatten()\n"
      ]
    },
    {
      "cell_type": "code",
      "execution_count": 14,
      "metadata": {
        "colab": {
          "base_uri": "https://localhost:8080/",
          "height": 206
        },
        "id": "eK2yfkT_vPXz",
        "outputId": "df3ffdf8-d539-46e1-cc21-adf108ab42da"
      },
      "outputs": [
        {
          "data": {
            "text/html": [
              "<div>\n",
              "<style scoped>\n",
              "    .dataframe tbody tr th:only-of-type {\n",
              "        vertical-align: middle;\n",
              "    }\n",
              "\n",
              "    .dataframe tbody tr th {\n",
              "        vertical-align: top;\n",
              "    }\n",
              "\n",
              "    .dataframe thead th {\n",
              "        text-align: right;\n",
              "    }\n",
              "</style>\n",
              "<table border=\"1\" class=\"dataframe\">\n",
              "  <thead>\n",
              "    <tr style=\"text-align: right;\">\n",
              "      <th></th>\n",
              "      <th>CustomerID</th>\n",
              "      <th>BirthDate</th>\n",
              "      <th>NumberCarsOwned</th>\n",
              "      <th>NumberChildrenAtHome</th>\n",
              "      <th>YearlyIncome</th>\n",
              "      <th>BikeBuyer</th>\n",
              "      <th>AvgMonthSpend</th>\n",
              "    </tr>\n",
              "  </thead>\n",
              "  <tbody>\n",
              "    <tr>\n",
              "      <th>0</th>\n",
              "      <td>21173</td>\n",
              "      <td>1987-11-13</td>\n",
              "      <td>3</td>\n",
              "      <td>0</td>\n",
              "      <td>0.496842</td>\n",
              "      <td>1</td>\n",
              "      <td>0.324210</td>\n",
              "    </tr>\n",
              "    <tr>\n",
              "      <th>1</th>\n",
              "      <td>13249</td>\n",
              "      <td>1972-07-21</td>\n",
              "      <td>2</td>\n",
              "      <td>1</td>\n",
              "      <td>0.489453</td>\n",
              "      <td>1</td>\n",
              "      <td>0.425201</td>\n",
              "    </tr>\n",
              "    <tr>\n",
              "      <th>2</th>\n",
              "      <td>29350</td>\n",
              "      <td>1985-11-09</td>\n",
              "      <td>3</td>\n",
              "      <td>0</td>\n",
              "      <td>0.536172</td>\n",
              "      <td>1</td>\n",
              "      <td>0.470977</td>\n",
              "    </tr>\n",
              "    <tr>\n",
              "      <th>3</th>\n",
              "      <td>13503</td>\n",
              "      <td>1977-10-18</td>\n",
              "      <td>2</td>\n",
              "      <td>1</td>\n",
              "      <td>0.317083</td>\n",
              "      <td>1</td>\n",
              "      <td>0.605474</td>\n",
              "    </tr>\n",
              "    <tr>\n",
              "      <th>4</th>\n",
              "      <td>22803</td>\n",
              "      <td>1975-02-05</td>\n",
              "      <td>1</td>\n",
              "      <td>0</td>\n",
              "      <td>0.231958</td>\n",
              "      <td>1</td>\n",
              "      <td>0.533742</td>\n",
              "    </tr>\n",
              "  </tbody>\n",
              "</table>\n",
              "</div>"
            ],
            "text/plain": [
              "   CustomerID   BirthDate  NumberCarsOwned  NumberChildrenAtHome  \\\n",
              "0       21173  1987-11-13                3                     0   \n",
              "1       13249  1972-07-21                2                     1   \n",
              "2       29350  1985-11-09                3                     0   \n",
              "3       13503  1977-10-18                2                     1   \n",
              "4       22803  1975-02-05                1                     0   \n",
              "\n",
              "   YearlyIncome  BikeBuyer  AvgMonthSpend  \n",
              "0      0.496842          1       0.324210  \n",
              "1      0.489453          1       0.425201  \n",
              "2      0.536172          1       0.470977  \n",
              "3      0.317083          1       0.605474  \n",
              "4      0.231958          1       0.533742  "
            ]
          },
          "execution_count": 14,
          "metadata": {},
          "output_type": "execute_result"
        }
      ],
      "source": [
        "df_joined.head()"
      ]
    },
    {
      "cell_type": "markdown",
      "metadata": {
        "id": "Hh3fC1y3g5Tw"
      },
      "source": []
    },
    {
      "cell_type": "markdown",
      "metadata": {
        "id": "PPEeKTo-DesG"
      },
      "source": [
        "# __Converting the Birth Date Column to extract the age of customers__"
      ]
    },
    {
      "cell_type": "code",
      "execution_count": 15,
      "metadata": {
        "colab": {
          "base_uri": "https://localhost:8080/",
          "height": 206
        },
        "id": "87VrUDv6GGU2",
        "outputId": "fe465a4a-ce22-4c62-b1a3-333c0910345f"
      },
      "outputs": [
        {
          "data": {
            "text/html": [
              "<div>\n",
              "<style scoped>\n",
              "    .dataframe tbody tr th:only-of-type {\n",
              "        vertical-align: middle;\n",
              "    }\n",
              "\n",
              "    .dataframe tbody tr th {\n",
              "        vertical-align: top;\n",
              "    }\n",
              "\n",
              "    .dataframe thead th {\n",
              "        text-align: right;\n",
              "    }\n",
              "</style>\n",
              "<table border=\"1\" class=\"dataframe\">\n",
              "  <thead>\n",
              "    <tr style=\"text-align: right;\">\n",
              "      <th></th>\n",
              "      <th>NumberCarsOwned</th>\n",
              "      <th>NumberChildrenAtHome</th>\n",
              "      <th>YearlyIncome</th>\n",
              "      <th>BikeBuyer</th>\n",
              "      <th>AvgMonthSpend</th>\n",
              "      <th>Age</th>\n",
              "    </tr>\n",
              "  </thead>\n",
              "  <tbody>\n",
              "    <tr>\n",
              "      <th>0</th>\n",
              "      <td>3</td>\n",
              "      <td>0</td>\n",
              "      <td>0.496842</td>\n",
              "      <td>1</td>\n",
              "      <td>0.324210</td>\n",
              "      <td>0.183099</td>\n",
              "    </tr>\n",
              "    <tr>\n",
              "      <th>1</th>\n",
              "      <td>2</td>\n",
              "      <td>1</td>\n",
              "      <td>0.489453</td>\n",
              "      <td>1</td>\n",
              "      <td>0.425201</td>\n",
              "      <td>0.408451</td>\n",
              "    </tr>\n",
              "    <tr>\n",
              "      <th>2</th>\n",
              "      <td>3</td>\n",
              "      <td>0</td>\n",
              "      <td>0.536172</td>\n",
              "      <td>1</td>\n",
              "      <td>0.470977</td>\n",
              "      <td>0.211268</td>\n",
              "    </tr>\n",
              "    <tr>\n",
              "      <th>3</th>\n",
              "      <td>2</td>\n",
              "      <td>1</td>\n",
              "      <td>0.317083</td>\n",
              "      <td>1</td>\n",
              "      <td>0.605474</td>\n",
              "      <td>0.323944</td>\n",
              "    </tr>\n",
              "    <tr>\n",
              "      <th>4</th>\n",
              "      <td>1</td>\n",
              "      <td>0</td>\n",
              "      <td>0.231958</td>\n",
              "      <td>1</td>\n",
              "      <td>0.533742</td>\n",
              "      <td>0.366197</td>\n",
              "    </tr>\n",
              "  </tbody>\n",
              "</table>\n",
              "</div>"
            ],
            "text/plain": [
              "   NumberCarsOwned  NumberChildrenAtHome  YearlyIncome  BikeBuyer  \\\n",
              "0                3                     0      0.496842          1   \n",
              "1                2                     1      0.489453          1   \n",
              "2                3                     0      0.536172          1   \n",
              "3                2                     1      0.317083          1   \n",
              "4                1                     0      0.231958          1   \n",
              "\n",
              "   AvgMonthSpend       Age  \n",
              "0       0.324210  0.183099  \n",
              "1       0.425201  0.408451  \n",
              "2       0.470977  0.211268  \n",
              "3       0.605474  0.323944  \n",
              "4       0.533742  0.366197  "
            ]
          },
          "execution_count": 15,
          "metadata": {},
          "output_type": "execute_result"
        }
      ],
      "source": [
        "import datetime\n",
        "\n",
        "def calculate_age_in_years(birth_date):\n",
        "  born = datetime.datetime.strptime(birth_date, \"%Y-%m-%d\")\n",
        "  today = datetime.date.today()\n",
        "  age = today.year - born.year - ((today.month, today.day) < (born.month, born.day))\n",
        "  return age\n",
        "\n",
        "df_joined['Age'] = df_joined['BirthDate'].apply(calculate_age_in_years)\n",
        "scaler = MinMaxScaler()\n",
        "df_joined['Age'] = scaler.fit_transform(df_joined[['Age']])\n",
        "df_joined.drop(columns = ['BirthDate', 'CustomerID'], inplace=True)\n",
        "df_joined.head()"
      ]
    },
    {
      "cell_type": "markdown",
      "metadata": {},
      "source": [
        "# __Discretization based on Equal Width Binning__"
      ]
    },
    {
      "cell_type": "code",
      "execution_count": 16,
      "metadata": {
        "id": "p8vuncAkJtjX"
      },
      "outputs": [
        {
          "data": {
            "text/html": [
              "<div>\n",
              "<style scoped>\n",
              "    .dataframe tbody tr th:only-of-type {\n",
              "        vertical-align: middle;\n",
              "    }\n",
              "\n",
              "    .dataframe tbody tr th {\n",
              "        vertical-align: top;\n",
              "    }\n",
              "\n",
              "    .dataframe thead th {\n",
              "        text-align: right;\n",
              "    }\n",
              "</style>\n",
              "<table border=\"1\" class=\"dataframe\">\n",
              "  <thead>\n",
              "    <tr style=\"text-align: right;\">\n",
              "      <th></th>\n",
              "      <th>NumberCarsOwned</th>\n",
              "      <th>NumberChildrenAtHome</th>\n",
              "      <th>YearlyIncome</th>\n",
              "      <th>BikeBuyer</th>\n",
              "      <th>AvgMonthSpend</th>\n",
              "      <th>Age</th>\n",
              "    </tr>\n",
              "  </thead>\n",
              "  <tbody>\n",
              "    <tr>\n",
              "      <th>0</th>\n",
              "      <td>3</td>\n",
              "      <td>0</td>\n",
              "      <td>5</td>\n",
              "      <td>1</td>\n",
              "      <td>0.324210</td>\n",
              "      <td>0.2</td>\n",
              "    </tr>\n",
              "    <tr>\n",
              "      <th>1</th>\n",
              "      <td>2</td>\n",
              "      <td>1</td>\n",
              "      <td>5</td>\n",
              "      <td>1</td>\n",
              "      <td>0.425201</td>\n",
              "      <td>0.5</td>\n",
              "    </tr>\n",
              "    <tr>\n",
              "      <th>2</th>\n",
              "      <td>3</td>\n",
              "      <td>0</td>\n",
              "      <td>6</td>\n",
              "      <td>1</td>\n",
              "      <td>0.470977</td>\n",
              "      <td>0.3</td>\n",
              "    </tr>\n",
              "    <tr>\n",
              "      <th>3</th>\n",
              "      <td>2</td>\n",
              "      <td>1</td>\n",
              "      <td>4</td>\n",
              "      <td>1</td>\n",
              "      <td>0.605474</td>\n",
              "      <td>0.4</td>\n",
              "    </tr>\n",
              "    <tr>\n",
              "      <th>4</th>\n",
              "      <td>1</td>\n",
              "      <td>0</td>\n",
              "      <td>3</td>\n",
              "      <td>1</td>\n",
              "      <td>0.533742</td>\n",
              "      <td>0.4</td>\n",
              "    </tr>\n",
              "  </tbody>\n",
              "</table>\n",
              "</div>"
            ],
            "text/plain": [
              "   NumberCarsOwned  NumberChildrenAtHome YearlyIncome  BikeBuyer  \\\n",
              "0                3                     0            5          1   \n",
              "1                2                     1            5          1   \n",
              "2                3                     0            6          1   \n",
              "3                2                     1            4          1   \n",
              "4                1                     0            3          1   \n",
              "\n",
              "   AvgMonthSpend  Age  \n",
              "0       0.324210  0.2  \n",
              "1       0.425201  0.5  \n",
              "2       0.470977  0.3  \n",
              "3       0.605474  0.4  \n",
              "4       0.533742  0.4  "
            ]
          },
          "execution_count": 16,
          "metadata": {},
          "output_type": "execute_result"
        }
      ],
      "source": [
        "df_joined['YearlyIncome'] = pd.cut(df_joined['YearlyIncome'], bins=10, labels=[1,2,3,4,5,6,7,8,9,10])\n",
        "df_joined['Age'] = pd.cut(df_joined['Age'], bins=10, labels=[.1,.2,.3,.4,.5,.6,.7,.8,.9,1.0])\n",
        "\n",
        "df_joined.head()"
      ]
    },
    {
      "cell_type": "markdown",
      "metadata": {},
      "source": [
        "# __Standardization of the AvgMonthSpend column__"
      ]
    },
    {
      "cell_type": "code",
      "execution_count": 17,
      "metadata": {
        "colab": {
          "base_uri": "https://localhost:8080/",
          "height": 206
        },
        "id": "TsmgtpEdc7Wl",
        "outputId": "052975f5-8ef6-484a-d5b7-f8f9039dccf7"
      },
      "outputs": [
        {
          "data": {
            "text/html": [
              "<div>\n",
              "<style scoped>\n",
              "    .dataframe tbody tr th:only-of-type {\n",
              "        vertical-align: middle;\n",
              "    }\n",
              "\n",
              "    .dataframe tbody tr th {\n",
              "        vertical-align: top;\n",
              "    }\n",
              "\n",
              "    .dataframe thead th {\n",
              "        text-align: right;\n",
              "    }\n",
              "</style>\n",
              "<table border=\"1\" class=\"dataframe\">\n",
              "  <thead>\n",
              "    <tr style=\"text-align: right;\">\n",
              "      <th></th>\n",
              "      <th>NumberCarsOwned</th>\n",
              "      <th>NumberChildrenAtHome</th>\n",
              "      <th>YearlyIncome</th>\n",
              "      <th>BikeBuyer</th>\n",
              "      <th>AvgMonthSpend</th>\n",
              "      <th>Age</th>\n",
              "    </tr>\n",
              "  </thead>\n",
              "  <tbody>\n",
              "    <tr>\n",
              "      <th>0</th>\n",
              "      <td>3</td>\n",
              "      <td>0</td>\n",
              "      <td>0.125172</td>\n",
              "      <td>1</td>\n",
              "      <td>-0.231774</td>\n",
              "      <td>0.2</td>\n",
              "    </tr>\n",
              "    <tr>\n",
              "      <th>1</th>\n",
              "      <td>2</td>\n",
              "      <td>1</td>\n",
              "      <td>0.125172</td>\n",
              "      <td>1</td>\n",
              "      <td>0.390755</td>\n",
              "      <td>0.5</td>\n",
              "    </tr>\n",
              "    <tr>\n",
              "      <th>2</th>\n",
              "      <td>3</td>\n",
              "      <td>0</td>\n",
              "      <td>0.493310</td>\n",
              "      <td>1</td>\n",
              "      <td>0.672929</td>\n",
              "      <td>0.3</td>\n",
              "    </tr>\n",
              "    <tr>\n",
              "      <th>3</th>\n",
              "      <td>2</td>\n",
              "      <td>1</td>\n",
              "      <td>-0.242966</td>\n",
              "      <td>1</td>\n",
              "      <td>1.501999</td>\n",
              "      <td>0.4</td>\n",
              "    </tr>\n",
              "    <tr>\n",
              "      <th>4</th>\n",
              "      <td>1</td>\n",
              "      <td>0</td>\n",
              "      <td>-0.611103</td>\n",
              "      <td>1</td>\n",
              "      <td>1.059828</td>\n",
              "      <td>0.4</td>\n",
              "    </tr>\n",
              "  </tbody>\n",
              "</table>\n",
              "</div>"
            ],
            "text/plain": [
              "   NumberCarsOwned  NumberChildrenAtHome  YearlyIncome  BikeBuyer  \\\n",
              "0                3                     0      0.125172          1   \n",
              "1                2                     1      0.125172          1   \n",
              "2                3                     0      0.493310          1   \n",
              "3                2                     1     -0.242966          1   \n",
              "4                1                     0     -0.611103          1   \n",
              "\n",
              "   AvgMonthSpend  Age  \n",
              "0      -0.231774  0.2  \n",
              "1       0.390755  0.5  \n",
              "2       0.672929  0.3  \n",
              "3       1.501999  0.4  \n",
              "4       1.059828  0.4  "
            ]
          },
          "execution_count": 17,
          "metadata": {},
          "output_type": "execute_result"
        }
      ],
      "source": [
        "from sklearn.preprocessing import StandardScaler\n",
        "\n",
        "scaler = StandardScaler()\n",
        "df_joined['AvgMonthSpend'] = scaler.fit_transform(df_joined[['AvgMonthSpend']])\n",
        "df_joined['YearlyIncome'] = scaler.fit_transform(df_joined[['YearlyIncome']])\n",
        "\n",
        "df_joined.head()"
      ]
    },
    {
      "cell_type": "markdown",
      "metadata": {},
      "source": [
        "# __Binarization of Categorical Data__"
      ]
    },
    {
      "cell_type": "code",
      "execution_count": 18,
      "metadata": {},
      "outputs": [],
      "source": [
        "from sklearn.preprocessing import OneHotEncoder\n",
        "encoder = OneHotEncoder()\n",
        "encoded_data = encoder.fit_transform(df_joined[['NumberChildrenAtHome']])\n",
        "encoded_df = pd.DataFrame(encoded_data.toarray(), columns=encoder.get_feature_names_out())\n"
      ]
    },
    {
      "cell_type": "code",
      "execution_count": 19,
      "metadata": {},
      "outputs": [
        {
          "data": {
            "text/html": [
              "<div>\n",
              "<style scoped>\n",
              "    .dataframe tbody tr th:only-of-type {\n",
              "        vertical-align: middle;\n",
              "    }\n",
              "\n",
              "    .dataframe tbody tr th {\n",
              "        vertical-align: top;\n",
              "    }\n",
              "\n",
              "    .dataframe thead th {\n",
              "        text-align: right;\n",
              "    }\n",
              "</style>\n",
              "<table border=\"1\" class=\"dataframe\">\n",
              "  <thead>\n",
              "    <tr style=\"text-align: right;\">\n",
              "      <th></th>\n",
              "      <th>NumberCarsOwned</th>\n",
              "      <th>YearlyIncome</th>\n",
              "      <th>BikeBuyer</th>\n",
              "      <th>AvgMonthSpend</th>\n",
              "      <th>Age</th>\n",
              "      <th>NumberChildrenAtHome_0</th>\n",
              "      <th>NumberChildrenAtHome_1</th>\n",
              "      <th>NumberChildrenAtHome_2</th>\n",
              "      <th>NumberChildrenAtHome_3</th>\n",
              "    </tr>\n",
              "  </thead>\n",
              "  <tbody>\n",
              "    <tr>\n",
              "      <th>0</th>\n",
              "      <td>3</td>\n",
              "      <td>0.125172</td>\n",
              "      <td>1</td>\n",
              "      <td>-0.231774</td>\n",
              "      <td>0.2</td>\n",
              "      <td>1.0</td>\n",
              "      <td>0.0</td>\n",
              "      <td>0.0</td>\n",
              "      <td>0.0</td>\n",
              "    </tr>\n",
              "    <tr>\n",
              "      <th>1</th>\n",
              "      <td>2</td>\n",
              "      <td>0.125172</td>\n",
              "      <td>1</td>\n",
              "      <td>0.390755</td>\n",
              "      <td>0.5</td>\n",
              "      <td>0.0</td>\n",
              "      <td>1.0</td>\n",
              "      <td>0.0</td>\n",
              "      <td>0.0</td>\n",
              "    </tr>\n",
              "    <tr>\n",
              "      <th>2</th>\n",
              "      <td>3</td>\n",
              "      <td>0.493310</td>\n",
              "      <td>1</td>\n",
              "      <td>0.672929</td>\n",
              "      <td>0.3</td>\n",
              "      <td>1.0</td>\n",
              "      <td>0.0</td>\n",
              "      <td>0.0</td>\n",
              "      <td>0.0</td>\n",
              "    </tr>\n",
              "    <tr>\n",
              "      <th>3</th>\n",
              "      <td>2</td>\n",
              "      <td>-0.242966</td>\n",
              "      <td>1</td>\n",
              "      <td>1.501999</td>\n",
              "      <td>0.4</td>\n",
              "      <td>0.0</td>\n",
              "      <td>1.0</td>\n",
              "      <td>0.0</td>\n",
              "      <td>0.0</td>\n",
              "    </tr>\n",
              "    <tr>\n",
              "      <th>4</th>\n",
              "      <td>1</td>\n",
              "      <td>-0.611103</td>\n",
              "      <td>1</td>\n",
              "      <td>1.059828</td>\n",
              "      <td>0.4</td>\n",
              "      <td>1.0</td>\n",
              "      <td>0.0</td>\n",
              "      <td>0.0</td>\n",
              "      <td>0.0</td>\n",
              "    </tr>\n",
              "  </tbody>\n",
              "</table>\n",
              "</div>"
            ],
            "text/plain": [
              "   NumberCarsOwned  YearlyIncome  BikeBuyer  AvgMonthSpend  Age  \\\n",
              "0                3      0.125172          1      -0.231774  0.2   \n",
              "1                2      0.125172          1       0.390755  0.5   \n",
              "2                3      0.493310          1       0.672929  0.3   \n",
              "3                2     -0.242966          1       1.501999  0.4   \n",
              "4                1     -0.611103          1       1.059828  0.4   \n",
              "\n",
              "   NumberChildrenAtHome_0  NumberChildrenAtHome_1  NumberChildrenAtHome_2  \\\n",
              "0                     1.0                     0.0                     0.0   \n",
              "1                     0.0                     1.0                     0.0   \n",
              "2                     1.0                     0.0                     0.0   \n",
              "3                     0.0                     1.0                     0.0   \n",
              "4                     1.0                     0.0                     0.0   \n",
              "\n",
              "   NumberChildrenAtHome_3  \n",
              "0                     0.0  \n",
              "1                     0.0  \n",
              "2                     0.0  \n",
              "3                     0.0  \n",
              "4                     0.0  "
            ]
          },
          "execution_count": 19,
          "metadata": {},
          "output_type": "execute_result"
        }
      ],
      "source": [
        "df_joined = pd.concat([df_joined,encoded_df],axis=1)\n",
        "df_joined.drop(columns=['NumberChildrenAtHome'],inplace=True)\n",
        "df_joined.head()"
      ]
    },
    {
      "cell_type": "markdown",
      "metadata": {},
      "source": [
        "# __Simple Matching, Jaccard, Cosine Similarity for the Number Of Children At Home__"
      ]
    },
    {
      "cell_type": "code",
      "execution_count": 20,
      "metadata": {},
      "outputs": [
        {
          "name": "stdout",
          "output_type": "stream",
          "text": [
            "0.5\n",
            "0.0\n",
            "0.3333333333333333\n"
          ]
        }
      ],
      "source": [
        "\n",
        "def simple_matching_coefficient(row1, row2):\n",
        "  matching_columns = np.sum(row1 == row2)\n",
        "  total_columns = len(row1)\n",
        "  return matching_columns / total_columns\n",
        "\n",
        "def jaccard_similarity(col1, col2):\n",
        "  intersection = (col1 == col2).sum()\n",
        "  union = len(col1) + len(col2) - intersection\n",
        "  return intersection / union\n",
        "\n",
        "def cosine_similarity(a, b):\n",
        "  dot_product = np.dot(a, b)\n",
        "  norm_a = np.linalg.norm(a)\n",
        "  norm_b = np.linalg.norm(b)\n",
        "  return dot_product / (norm_a * norm_b)\n",
        "\n",
        "\n",
        "\n",
        "\n",
        "df_only_ncah = df_joined.drop(columns=['NumberCarsOwned','YearlyIncome','BikeBuyer','AvgMonthSpend','Age'])\n",
        "row1 = df_only_ncah.iloc[0].values\n",
        "row2 = df_only_ncah.iloc[1].values\n",
        "print(simple_matching_coefficient(row1,row2))\n",
        "print(cosine_similarity(row1,row2))#it is zero 'cause the values are completely unrelated to each other\n",
        "print(jaccard_similarity(row1,row2))"
      ]
    },
    {
      "cell_type": "markdown",
      "metadata": {},
      "source": [
        "# __Correlation between Number of Cars Owned and Yearly Income__"
      ]
    },
    {
      "cell_type": "code",
      "execution_count": 21,
      "metadata": {},
      "outputs": [
        {
          "name": "stdout",
          "output_type": "stream",
          "text": [
            "0.4750646756441002\n"
          ]
        }
      ],
      "source": [
        "\n",
        "correlation = df_joined['NumberCarsOwned'].corr(df_joined['YearlyIncome'])\n",
        "print(correlation)"
      ]
    }
  ],
  "metadata": {
    "colab": {
      "provenance": []
    },
    "kernelspec": {
      "display_name": "Python 3",
      "name": "python3"
    },
    "language_info": {
      "codemirror_mode": {
        "name": "ipython",
        "version": 3
      },
      "file_extension": ".py",
      "mimetype": "text/x-python",
      "name": "python",
      "nbconvert_exporter": "python",
      "pygments_lexer": "ipython3",
      "version": "3.12.3"
    }
  },
  "nbformat": 4,
  "nbformat_minor": 0
}
