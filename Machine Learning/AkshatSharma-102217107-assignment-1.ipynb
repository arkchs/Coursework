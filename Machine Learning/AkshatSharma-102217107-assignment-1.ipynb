{
 "cells": [
  {
   "cell_type": "markdown",
   "metadata": {},
   "source": [
    "# __Akshat Sharma 102217107__"
   ]
  },
  {
   "cell_type": "code",
   "execution_count": 17,
   "metadata": {},
   "outputs": [],
   "source": [
    "import numpy as np\n",
    "import imageio"
   ]
  },
  {
   "cell_type": "code",
   "execution_count": 18,
   "metadata": {},
   "outputs": [
    {
     "name": "stdout",
     "output_type": "stream",
     "text": [
      "[5 4 6 3 2 1]\n"
     ]
    }
   ],
   "source": [
    "arr = np.array([1, 2, 3, 6, 4, 5])  \n",
    "print(np.flip(arr))"
   ]
  },
  {
   "cell_type": "code",
   "execution_count": 19,
   "metadata": {},
   "outputs": [
    {
     "name": "stdout",
     "output_type": "stream",
     "text": [
      "[1 2 3 2 4 5 1 2 3]\n",
      "[ 1  2  3  2  4  5  1  2 12]\n"
     ]
    }
   ],
   "source": [
    "array1 = np.array([[1, 2, 3], [2, 4, 5], [1, 2, 3]])\n",
    "#flattens the multi dimensional array\n",
    "print(array1.flatten())\n",
    "#But when you use ravel, the changes you make to the new array will affect the parent array.\n",
    "arr2 = array1.ravel()\n",
    "arr2[-1]=12\n",
    "print(arr2)"
   ]
  },
  {
   "cell_type": "code",
   "execution_count": 20,
   "metadata": {},
   "outputs": [
    {
     "name": "stdout",
     "output_type": "stream",
     "text": [
      "[[False  True]\n",
      " [ True  True]]\n",
      "False\n",
      "Using inbuild function: False\n"
     ]
    }
   ],
   "source": [
    "arr1 = np.array([[1, 2], [3, 4]]) \n",
    "arr2 = np.array([[0, 2], [3, 4]]) \n",
    "comparison = arr1==arr2\n",
    "print(comparison)#using the == operator we get an array comparing individual elements of the array\n",
    "print(comparison.all())#checks if all the elements of comparison is false\n",
    "print(f\"Using inbuild function: {np.array_equal(arr1,arr2)}\")"
   ]
  },
  {
   "cell_type": "code",
   "execution_count": 21,
   "metadata": {},
   "outputs": [
    {
     "name": "stdout",
     "output_type": "stream",
     "text": [
      "[0 4 5 2 1 1 0 0 0 0 0 0 0 0 0 0 0 0 0 0 0 0 0 0 0 0 0 0 0 0 0 0 0 0 0 0 0\n",
      " 0 0 0 0 0 0 0 0 0 0 0 0 0 0 0 0 0 0 0 0 0 0 0 0 0 0 0 0 0 0 0 0 0 0 0 0 0\n",
      " 0 0 0 0 0 0 0 0 0 0 0 0 0 0 0 0 0 0 0 0 0 0 0 0 0 0 1]\n",
      "index: 8\n",
      "value: 2\n"
     ]
    }
   ],
   "source": [
    "x = np.array([3,3,4,5,1,1,1,1,2,2,2,2,2,100])\n",
    " \n",
    "#argmax finds the max\n",
    "print(np.bincount(x))\n",
    "val = np.bincount(x).argmax()\n",
    "for i in range(np.size(np.bincount(x))):\n",
    "    if x[i]==val:\n",
    "        print(f\"index: {i}\")\n",
    "        break\n",
    "print(f\"value: {val}\")"
   ]
  },
  {
   "cell_type": "code",
   "execution_count": 22,
   "metadata": {},
   "outputs": [
    {
     "name": "stdout",
     "output_type": "stream",
     "text": [
      "45\n",
      "[[14]\n",
      " [16]\n",
      " [15]]\n",
      "[[20  9 16]]\n"
     ]
    }
   ],
   "source": [
    "gfg = np.matrix([[4, 1, 9],[ 12, 3, 1],[ 4, 5, 6]])\n",
    "print(np.sum(gfg))\n",
    "print(gfg.sum(axis=1))#rows\n",
    "print(gfg.sum(axis=0))#columns"
   ]
  },
  {
   "cell_type": "code",
   "execution_count": 23,
   "metadata": {},
   "outputs": [
    {
     "name": "stdout",
     "output_type": "stream",
     "text": [
      "176\n",
      "[[ True False False]\n",
      " [False  True False]\n",
      " [False False  True]]\n",
      "[98.16835147 28.097044   49.73460452]\n",
      "[[ 0.4574917   0.34637121 -0.15017693]\n",
      " [ 0.28447814 -0.72784061 -0.4852124 ]\n",
      " [ 0.84248058  0.59184038  0.8614034 ]]\n",
      "137180.0000000001\n",
      "[[ 0.02404141 -0.00911212 -0.00444671]\n",
      " [-0.01667882  0.02966905  0.0024785 ]\n",
      " [ 0.00631287 -0.01603732  0.01217379]]\n"
     ]
    }
   ],
   "source": [
    "n_array = np.array([[55, 25, 15],[30, 44, 2],[11, 45, 77]])\n",
    "#1st using np\n",
    "print(np.trace(n_array))\n",
    "#2nd method using a mask\n",
    "mask= np.eye(n_array.shape[0],dtype=bool)\n",
    "print(mask)\n",
    "\n",
    "np.sum(n_array,where=mask)\n",
    "\n",
    "\n",
    "\n",
    "\n",
    "\n",
    "eigen_val, eigen_vec = np.linalg.eig(n_array)\n",
    "print(eigen_val)\n",
    "print(eigen_vec)\n",
    "\n",
    "det= np.linalg.det(n_array)\n",
    "inv = np.linalg.inv(n_array)\n",
    "print(det)\n",
    "print(inv)"
   ]
  },
  {
   "cell_type": "code",
   "execution_count": 24,
   "metadata": {},
   "outputs": [
    {
     "name": "stdout",
     "output_type": "stream",
     "text": [
      "[[ 4 10]\n",
      " [12 21]]\n",
      "[[16 19]\n",
      " [26 31]]\n",
      "[[0.5 0.5]\n",
      " [0.5 0.5]]\n",
      "[[0.5 0.5]\n",
      " [0.5 0.5]]\n"
     ]
    }
   ],
   "source": [
    "p = [[1, 2], \n",
    "     [2, 3]] \n",
    "q = [[4, 5], \n",
    "     [6, 7]] \n",
    "\n",
    "print(np.multiply(p,q))\n",
    "\n",
    "print(np.dot(p,q))\n",
    "\n",
    "\n",
    "print(np.cov(p))\n",
    "print(np.cov(q))"
   ]
  },
  {
   "cell_type": "code",
   "execution_count": 25,
   "metadata": {},
   "outputs": [
    {
     "name": "stdout",
     "output_type": "stream",
     "text": [
      "[[17 52]\n",
      " [13 62]]\n",
      "[[ 2 10  0 10 20  6]\n",
      " [ 3 15  0 15 30  9]\n",
      " [ 4 20  0 20 40 12]\n",
      " [ 3 15  0 15 30  9]\n",
      " [ 2 10  0 10 20  6]\n",
      " [ 9 45  0 45 90 27]]\n",
      "[[ 2 10  0  3 15  0  4 20  0]\n",
      " [10 20  6 15 30  9 20 40 12]\n",
      " [ 3 15  0  2 10  0  9 45  0]\n",
      " [15 30  9 10 20  6 45 90 27]]\n"
     ]
    }
   ],
   "source": [
    "x = np.array([[2, 3, 4], [3, 2, 9]])\n",
    "y = np.array([[1, 5, 0], [5, 10, 3]])\n",
    "\n",
    "inner_product = np.dot(x, y.T)  # y.T is the transpose of y\n",
    "print(inner_product)\n",
    "\n",
    "outer_product = np.outer(x, y)\n",
    "print(outer_product)\n",
    "\n",
    "cartesian_product = np.kron(x, y)\n",
    "print(cartesian_product)"
   ]
  },
  {
   "cell_type": "code",
   "execution_count": 26,
   "metadata": {},
   "outputs": [
    {
     "name": "stdout",
     "output_type": "stream",
     "text": [
      "[[1 2 3]\n",
      " [4 5 6]]\n",
      "[-3.5 -0.5  2.5]\n",
      "[[-2.75 -0.25 -3.75]\n",
      " [-1.5   1.5  -1.5 ]\n",
      " [-0.25  3.25  0.75]]\n",
      "[[-0.5 -5. ]\n",
      " [ 1.  -4. ]\n",
      " [ 2.   0.5]]\n"
     ]
    }
   ],
   "source": [
    "array = np.array([[1, -2, 3],[-4, 5, -6]]) \n",
    "print(np.abs(array))\n",
    "\n",
    "\n",
    "flattened_array = array.flatten()\n",
    "print(np.percentile(flattened_array,[25,50,75]))\n",
    "print(np.percentile(array,[25,50,75],axis=0))\n",
    "print(np.percentile(array,[25,50,75],axis=1))\n"
   ]
  },
  {
   "cell_type": "code",
   "execution_count": 27,
   "metadata": {},
   "outputs": [
    {
     "name": "stdout",
     "output_type": "stream",
     "text": [
      "Mean, median, and standard deviation for flattened array:\n",
      " -0.5 -0.5 3.8622100754188224\n",
      "Mean, median, and standard deviation for columns:\n",
      " [-1.5  1.5 -1.5] [-1.5  1.5 -1.5] [2.5 3.5 4.5]\n",
      "Mean, median, and standard deviation for rows:\n",
      " [ 0.66666667 -1.66666667] [ 1. -4.] [2.05480467 4.78423336]\n"
     ]
    }
   ],
   "source": [
    "mean_flattened = np.mean(flattened_array)\n",
    "median_flattened = np.median(flattened_array)\n",
    "std_flattened = np.std(flattened_array)\n",
    "\n",
    "print(\"Mean, median, and standard deviation for flattened array:\\n\", mean_flattened, median_flattened, std_flattened)\n",
    "\n",
    "mean_columns = np.mean(array, axis=0)\n",
    "median_columns = np.median(array, axis=0)\n",
    "std_columns = np.std(array, axis=0)\n",
    "\n",
    "print(\"Mean, median, and standard deviation for columns:\\n\", mean_columns, median_columns, std_columns)\n",
    "\n",
    "mean_rows = np.mean(array, axis=1)\n",
    "median_rows = np.median(array, axis=1)\n",
    "std_rows = np.std(array, axis=1)\n",
    "print(\"Mean, median, and standard deviation for rows:\\n\", mean_rows, median_rows, std_rows)"
   ]
  },
  {
   "cell_type": "code",
   "execution_count": 28,
   "metadata": {},
   "outputs": [
    {
     "name": "stdout",
     "output_type": "stream",
     "text": [
      "[-2. -2. -1.  0.  1.  1.  3.]\n",
      "[-1. -1. -0.  1.  2.  2.  3.]\n",
      "[-1. -1. -0.  0.  1.  1.  3.]\n",
      "[-2. -2. -0.  0.  2.  2.  3.]\n"
     ]
    }
   ],
   "source": [
    "a = np.array([-1.8, -1.6, -0.5, 0.5, 1.6, 1.8, 3.0])\n",
    "\n",
    "print(np.floor(a))\n",
    "print(np.ceil(a))\n",
    "print(np.trunc(a))\n",
    "print(np.round(a))"
   ]
  },
  {
   "cell_type": "code",
   "execution_count": 29,
   "metadata": {},
   "outputs": [
    {
     "name": "stdout",
     "output_type": "stream",
     "text": [
      "[ 10  16  16  52  54  62 453]\n",
      "[0 3 4 1 5 2 6]\n",
      "[10 16 16 52]\n",
      "[ 16  52  54  62 453]\n"
     ]
    }
   ],
   "source": [
    "\n",
    "array = np.array([10, 52, 62, 16, 16, 54, 453])\n",
    "print(np.sort(array))\n",
    "print(np.argsort(array))\n",
    "print(np.sort(array)[:4])\n",
    "print(np.sort(array)[-5:])"
   ]
  },
  {
   "cell_type": "code",
   "execution_count": 30,
   "metadata": {},
   "outputs": [
    {
     "name": "stdout",
     "output_type": "stream",
     "text": [
      "[1. 2. 3. 2.]\n",
      "[1.2 2.2]\n"
     ]
    }
   ],
   "source": [
    "array = np.array([1.0, 1.2, 2.2, 2.0, 3.0, 2.0])\n",
    "print(array[array % 1 == 0])\n",
    "print(array[array % 1 != 0])"
   ]
  },
  {
   "cell_type": "code",
   "execution_count": 31,
   "metadata": {},
   "outputs": [],
   "source": [
    "def image_to_path(path, savedPath):\n",
    "  img = imageio.imread(path)\n",
    "\n",
    "  if img.ndim == 3:\n",
    "    img_type = 'RGB'\n",
    "  elif img.ndim == 2:\n",
    "    img_type = 'Grayscale'\n",
    "  else:\n",
    "    raise ValueError(\"Unsupported image format\")\n",
    "\n",
    "  np.savez_compressed(savedPath, img, img_type, shape=img.shape)\n",
    "  print('Image Saved')"
   ]
  }
 ],
 "metadata": {
  "kernelspec": {
   "display_name": "Python 3",
   "language": "python",
   "name": "python3"
  },
  "language_info": {
   "codemirror_mode": {
    "name": "ipython",
    "version": 3
   },
   "file_extension": ".py",
   "mimetype": "text/x-python",
   "name": "python",
   "nbconvert_exporter": "python",
   "pygments_lexer": "ipython3",
   "version": "3.10.12"
  }
 },
 "nbformat": 4,
 "nbformat_minor": 2
}
