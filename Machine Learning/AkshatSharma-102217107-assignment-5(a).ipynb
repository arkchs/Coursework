{
 "cells": [
  {
   "cell_type": "code",
   "execution_count": 1,
   "metadata": {},
   "outputs": [],
   "source": [
    "import pandas as pd\n",
    "from sklearn.metrics import r2_score"
   ]
  },
  {
   "cell_type": "code",
   "execution_count": 2,
   "metadata": {},
   "outputs": [
    {
     "data": {
      "text/html": [
       "<div>\n",
       "<style scoped>\n",
       "    .dataframe tbody tr th:only-of-type {\n",
       "        vertical-align: middle;\n",
       "    }\n",
       "\n",
       "    .dataframe tbody tr th {\n",
       "        vertical-align: top;\n",
       "    }\n",
       "\n",
       "    .dataframe thead th {\n",
       "        text-align: right;\n",
       "    }\n",
       "</style>\n",
       "<table border=\"1\" class=\"dataframe\">\n",
       "  <thead>\n",
       "    <tr style=\"text-align: right;\">\n",
       "      <th></th>\n",
       "      <th>Avg. Area Income</th>\n",
       "      <th>Avg. Area House Age</th>\n",
       "      <th>Avg. Area Number of Rooms</th>\n",
       "      <th>Avg. Area Number of Bedrooms</th>\n",
       "      <th>Area Population</th>\n",
       "      <th>Price</th>\n",
       "    </tr>\n",
       "  </thead>\n",
       "  <tbody>\n",
       "    <tr>\n",
       "      <th>0</th>\n",
       "      <td>79545.45857</td>\n",
       "      <td>5.682861</td>\n",
       "      <td>7.009188</td>\n",
       "      <td>4.09</td>\n",
       "      <td>23086.80050</td>\n",
       "      <td>1.059034e+06</td>\n",
       "    </tr>\n",
       "    <tr>\n",
       "      <th>1</th>\n",
       "      <td>79248.64245</td>\n",
       "      <td>6.002900</td>\n",
       "      <td>6.730821</td>\n",
       "      <td>3.09</td>\n",
       "      <td>40173.07217</td>\n",
       "      <td>1.505891e+06</td>\n",
       "    </tr>\n",
       "    <tr>\n",
       "      <th>2</th>\n",
       "      <td>61287.06718</td>\n",
       "      <td>5.865890</td>\n",
       "      <td>8.512727</td>\n",
       "      <td>5.13</td>\n",
       "      <td>36882.15940</td>\n",
       "      <td>1.058988e+06</td>\n",
       "    </tr>\n",
       "    <tr>\n",
       "      <th>3</th>\n",
       "      <td>63345.24005</td>\n",
       "      <td>7.188236</td>\n",
       "      <td>5.586729</td>\n",
       "      <td>3.26</td>\n",
       "      <td>34310.24283</td>\n",
       "      <td>1.260617e+06</td>\n",
       "    </tr>\n",
       "    <tr>\n",
       "      <th>4</th>\n",
       "      <td>59982.19723</td>\n",
       "      <td>5.040555</td>\n",
       "      <td>7.839388</td>\n",
       "      <td>4.23</td>\n",
       "      <td>26354.10947</td>\n",
       "      <td>6.309435e+05</td>\n",
       "    </tr>\n",
       "  </tbody>\n",
       "</table>\n",
       "</div>"
      ],
      "text/plain": [
       "   Avg. Area Income  Avg. Area House Age  Avg. Area Number of Rooms  \\\n",
       "0       79545.45857             5.682861                   7.009188   \n",
       "1       79248.64245             6.002900                   6.730821   \n",
       "2       61287.06718             5.865890                   8.512727   \n",
       "3       63345.24005             7.188236                   5.586729   \n",
       "4       59982.19723             5.040555                   7.839388   \n",
       "\n",
       "   Avg. Area Number of Bedrooms  Area Population         Price  \n",
       "0                          4.09      23086.80050  1.059034e+06  \n",
       "1                          3.09      40173.07217  1.505891e+06  \n",
       "2                          5.13      36882.15940  1.058988e+06  \n",
       "3                          3.26      34310.24283  1.260617e+06  \n",
       "4                          4.23      26354.10947  6.309435e+05  "
      ]
     },
     "execution_count": 2,
     "metadata": {},
     "output_type": "execute_result"
    }
   ],
   "source": [
    "df = pd.read_csv('USA_Housing.csv') \n",
    "df.head()\n"
   ]
  },
  {
   "cell_type": "markdown",
   "metadata": {},
   "source": [
    "Divide the dataset into input features (all columns except price) and output variable\n",
    "(price)"
   ]
  },
  {
   "cell_type": "code",
   "execution_count": 3,
   "metadata": {},
   "outputs": [],
   "source": [
    "X = df.drop('Price', axis=1)\n",
    "y = df['Price']"
   ]
  },
  {
   "cell_type": "markdown",
   "metadata": {},
   "source": [
    "Scale the values of input features."
   ]
  },
  {
   "cell_type": "code",
   "execution_count": 4,
   "metadata": {},
   "outputs": [],
   "source": [
    "from sklearn.preprocessing import StandardScaler\n",
    "scaler = StandardScaler()\n",
    "X_scaled = scaler.fit_transform(X)\n"
   ]
  },
  {
   "cell_type": "markdown",
   "metadata": {},
   "source": [
    "Divide input and output features into five folds."
   ]
  },
  {
   "cell_type": "code",
   "execution_count": 5,
   "metadata": {},
   "outputs": [],
   "source": [
    "from sklearn.model_selection import KFold,cross_val_score\n",
    "kf = KFold(n_splits=5, shuffle=True, random_state=42)"
   ]
  },
  {
   "cell_type": "markdown",
   "metadata": {},
   "source": [
    "Run five iterations, in each iteration consider one-fold as test set and remaining\n",
    "four sets as training set. Find the beta (β) matrix, predicted values, and R2_score\n",
    "for each iteration using least square error fit."
   ]
  },
  {
   "cell_type": "code",
   "execution_count": 6,
   "metadata": {},
   "outputs": [
    {
     "name": "stdout",
     "output_type": "stream",
     "text": [
      "[0.91799717 0.91456779 0.91161164 0.91930918 0.92438694]\n"
     ]
    }
   ],
   "source": [
    "from sklearn.linear_model import LinearRegression\n",
    "model = LinearRegression()\n",
    "cross_val_results = cross_val_score(model,X_scaled, y, cv=kf)\n",
    "print(cross_val_results)"
   ]
  },
  {
   "cell_type": "code",
   "execution_count": 7,
   "metadata": {},
   "outputs": [
    {
     "name": "stdout",
     "output_type": "stream",
     "text": [
      "Best Beta Matrix:\n",
      "    Avg. Area Income  Avg. Area House Age  Avg. Area Number of Rooms  \\\n",
      "0     230225.051319        163956.838846              121115.120456   \n",
      "\n",
      "   Avg. Area Number of Bedrooms  Area Population  \n",
      "0                     783.46717    150662.446782  \n"
     ]
    }
   ],
   "source": [
    "from sklearn.linear_model import LinearRegression\n",
    "\n",
    "beta_matrices = []\n",
    "predicted_values_list = []\n",
    "r2_scores = []\n",
    "\n",
    "c=0\n",
    "for train_index, test_index in kf.split(X_scaled):\n",
    "    X_train, X_test = X_scaled[train_index], X_scaled[test_index]\n",
    "    y_train, y_test = y.iloc[train_index],y.iloc[test_index]\n",
    "\n",
    "    \n",
    "    model = LinearRegression()\n",
    "    model.fit(X_train, y_train)\n",
    "    y_pred = model.predict(X_test)\n",
    "    predicted_values_list.append(y_pred)\n",
    "\n",
    "    \n",
    "    beta_matrix = pd.DataFrame(model.coef_.reshape(1, -1), columns=X.columns)\n",
    "    beta_matrices.append(beta_matrix)\n",
    "   \n",
    "    \n",
    "    r2 = r2_score(y_test, y_pred)\n",
    "    r2_scores.append(r2)\n",
    "\n",
    "\n",
    "best_fold_index = r2_scores.index(max(r2_scores))\n",
    "\n",
    "\n",
    "best_beta_matrix = beta_matrices[best_fold_index]\n",
    "best_predicted_values = predicted_values_list[best_fold_index]\n",
    "\n",
    "\n",
    "print(\"Best Beta Matrix:\\n\", best_beta_matrix)"
   ]
  },
  {
   "cell_type": "markdown",
   "metadata": {},
   "source": [
    "\n",
    "\n"
   ]
  },
  {
   "cell_type": "code",
   "execution_count": 8,
   "metadata": {},
   "outputs": [
    {
     "name": "stdout",
     "output_type": "stream",
     "text": [
      "R-squared score on remaining 30% data: 0.9243869413350316\n"
     ]
    }
   ],
   "source": [
    "train_df = pd.DataFrame()\n",
    "for i in range(5):\n",
    "    if i != best_fold_index:\n",
    "        train_df = pd.concat([train_df, df.iloc[train_index]])\n",
    "test_df = df.iloc[test_index]\n",
    "\n",
    "X_train_final = train_df.drop('Price', axis=1)\n",
    "y_train_final = train_df['Price']\n",
    "X_test_final = test_df.drop('Price', axis=1)\n",
    "y_test_final = test_df['Price']\n",
    "\n",
    "\n",
    "X_train_final_scaled = scaler.transform(X_train_final)\n",
    "X_test_final_scaled = scaler.transform(X_test_final)\n",
    "\n",
    "final_model = LinearRegression()\n",
    "final_model.fit(X_train_final_scaled, y_train_final)\n",
    "\n",
    "\n",
    "y_pred_final = final_model.predict(X_test_final_scaled)\n",
    "\n",
    "\n",
    "r2_final = r2_score(y_test_final, y_pred_final)\n",
    "\n",
    "\n",
    "print(\"R-squared score on remaining 30% data:\", r2_final)"
   ]
  },
  {
   "cell_type": "markdown",
   "metadata": {},
   "source": [
    "## __Question 2__"
   ]
  },
  {
   "cell_type": "markdown",
   "metadata": {},
   "source": [
    "## __Temp contains 0.44 of the data, so we can set the value of test set as 30% if we use around 68 percent of the temp data. 0.44*0.6818 = 0.3__"
   ]
  },
  {
   "cell_type": "code",
   "execution_count": 9,
   "metadata": {},
   "outputs": [],
   "source": [
    "import numpy as np\n",
    "from sklearn.model_selection import train_test_split\n",
    "\n",
    "X_train, X_temp, y_train, y_temp = train_test_split(X_scaled, y, test_size=0.44, random_state=42)\n",
    "X_val, X_test, y_val, y_test = train_test_split(X_temp, y_temp, test_size=0.6818, random_state=42)\n"
   ]
  },
  {
   "cell_type": "code",
   "execution_count": 10,
   "metadata": {},
   "outputs": [],
   "source": [
    "def gradient_descent(X, y, alpha, iter):\n",
    "    m, n = X.shape\n",
    "    Beta = np.zeros(n)\n",
    "    for i in range(iter):\n",
    "        gradient = (1/m) * (X.T).dot(X.dot(Beta) - y)\n",
    "        Beta -= alpha * gradient\n",
    "    return Beta"
   ]
  },
  {
   "cell_type": "code",
   "execution_count": 11,
   "metadata": {},
   "outputs": [
    {
     "name": "stdout",
     "output_type": "stream",
     "text": [
      "Learning Rate: 0.001, R2 Score on Validation Set: -12.166146317830009, R2 Score on Test Set: -11.928585892586174\n",
      "Learning Rate: 0.01, R2 Score on Validation Set: -11.825175356123298, R2 Score on Test Set: -11.789846021831364\n",
      "Learning Rate: 0.1, R2 Score on Validation Set: -11.824948102374034, R2 Score on Test Set: -11.789757046002817\n",
      "Learning Rate: 1, R2 Score on Validation Set: -11.824948102374034, R2 Score on Test Set: -11.789757046002817\n",
      "Best Regression Coefficients:\n",
      " [213136.53934291 168106.98501703  96703.42031391   1952.55683139\n",
      " 136600.18554736]\n"
     ]
    }
   ],
   "source": [
    "alpha = [0.001, 0.01, 0.1, 1]\n",
    "iterations = 1000\n",
    "best_r2_val = -np.inf\n",
    "best_beta = []\n",
    "\n",
    "for lr in alpha:\n",
    "    beta = gradient_descent(X_train, y_train, lr, iterations)\n",
    "    \n",
    "    y_val_pred = X_val.dot(beta)\n",
    "    # print(type(X_val))\n",
    "    r2_val = r2_score(y_val, y_val_pred)\n",
    "    \n",
    "    y_test_pred = X_test.dot(beta)\n",
    "    r2_test = r2_score(y_test, y_test_pred)\n",
    "\n",
    "    print(f\"Learning Rate: {lr}, R2 Score on Validation Set: {r2_val}, R2 Score on Test Set: {r2_test}\")\n",
    "    if r2_val > best_r2_val:\n",
    "        best_r2_val = r2_val\n",
    "        best_beta = beta\n",
    "print(\"Best Regression Coefficients:\\n\", best_beta)"
   ]
  }
 ],
 "metadata": {
  "kernelspec": {
   "display_name": "Python 3",
   "language": "python",
   "name": "python3"
  },
  "language_info": {
   "codemirror_mode": {
    "name": "ipython",
    "version": 3
   },
   "file_extension": ".py",
   "mimetype": "text/x-python",
   "name": "python",
   "nbconvert_exporter": "python",
   "pygments_lexer": "ipython3",
   "version": "3.12.3"
  }
 },
 "nbformat": 4,
 "nbformat_minor": 2
}
